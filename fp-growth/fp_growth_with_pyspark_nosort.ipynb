{
 "cells": [
  {
   "cell_type": "markdown",
   "metadata": {},
   "source": [
    "# Frequent patterns on MovieLens 25M dataset using FP-Growth\n",
    "This notebook provides code to mine frequent patterns on MovieLens 25M.  \n",
    "I select only good ratings (>3.0) and apply fp-growth algorithms (implemented by [PySpark](https://spark.apache.org/docs/latest/ml-frequent-pattern-mining.html#fp-growth)) on different size of dataset (1k, 10k, 100k, 1M, 2M, 5M, 10M, all~15M) without sorting.  \n",
    "The dataset is downloaded from https://grouplens.org/datasets/movielens/, extracted and copied to the directory `/opt/spark/data`.\n",
    "\n",
    "The association rules and the elapsed time is shown bellow.  \n",
    "Please ignore the ordering number of execution cells because I had to restart the notebook several times."
   ]
  },
  {
   "cell_type": "code",
   "execution_count": 1,
   "metadata": {},
   "outputs": [],
   "source": [
    "import pyspark\n",
    "import os\n",
    "import socket"
   ]
  },
  {
   "cell_type": "code",
   "execution_count": 2,
   "metadata": {},
   "outputs": [],
   "source": [
    "os.environ['PYSPARK_PYTHON'] = 'python3'\n",
    "driver_host = socket.gethostbyname(socket.gethostname())"
   ]
  },
  {
   "cell_type": "code",
   "execution_count": 3,
   "metadata": {},
   "outputs": [
    {
     "data": {
      "text/plain": [
       "<pyspark.conf.SparkConf at 0x7f9278b2e890>"
      ]
     },
     "execution_count": 3,
     "metadata": {},
     "output_type": "execute_result"
    }
   ],
   "source": [
    "conf = pyspark.SparkConf()\n",
    "\n",
    "conf.setMaster(\"k8s://https://kubernetes.default.svc.cluster.local:443\") \n",
    "\n",
    "conf.set(\"spark.kubernetes.container.image\", \"gcr.io/spark-operator/spark-py:v2.4.5\")\n",
    "conf.set(\"spark.kubernetes.authenticate.caCertFile\", \"/var/run/secrets/kubernetes.io/serviceaccount/ca.crt\")\n",
    "conf.set(\"spark.kubernetes.authenticate.oauthTokenFile\", \"/var/run/secrets/kubernetes.io/serviceaccount/token\")\n",
    "conf.set(\"spark.kubernetes.authenticate.driver.serviceAccountName\", \"spark\") \n",
    "conf.set(\"spark.executor.instances\", \"2\")\n",
    "conf.set(\"spark.executor.memory\", \"1g\")\n",
    "conf.set(\"spark.kubernetes.pyspark.pythonVersion\", \"3\")\n",
    "conf.set(\"spark.driver.host\", driver_host)\n",
    "conf.set(\"spark.driver.port\", \"29413\")"
   ]
  },
  {
   "cell_type": "code",
   "execution_count": 4,
   "metadata": {},
   "outputs": [],
   "source": [
    "spark = pyspark.sql.SparkSession.builder.config(conf=conf).getOrCreate()"
   ]
  },
  {
   "cell_type": "code",
   "execution_count": 5,
   "metadata": {},
   "outputs": [],
   "source": [
    "df = spark.read.load('/opt/spark/data/ratings.csv', format='csv', sep=',', inferSchema=True, header=True)"
   ]
  },
  {
   "cell_type": "code",
   "execution_count": 6,
   "metadata": {},
   "outputs": [
    {
     "name": "stdout",
     "output_type": "stream",
     "text": [
      "+------+-------+------+----------+\n",
      "|userId|movieId|rating| timestamp|\n",
      "+------+-------+------+----------+\n",
      "|     1|    296|   5.0|1147880044|\n",
      "|     1|    306|   3.5|1147868817|\n",
      "|     1|    307|   5.0|1147868828|\n",
      "|     1|    665|   5.0|1147878820|\n",
      "|     1|    899|   3.5|1147868510|\n",
      "|     1|   1088|   4.0|1147868495|\n",
      "|     1|   1175|   3.5|1147868826|\n",
      "|     1|   1217|   3.5|1147878326|\n",
      "|     1|   1237|   5.0|1147868839|\n",
      "|     1|   1250|   4.0|1147868414|\n",
      "+------+-------+------+----------+\n",
      "only showing top 10 rows\n",
      "\n"
     ]
    }
   ],
   "source": [
    "df.show(10)"
   ]
  },
  {
   "cell_type": "code",
   "execution_count": 7,
   "metadata": {},
   "outputs": [
    {
     "data": {
      "text/plain": [
       "25000095"
      ]
     },
     "execution_count": 7,
     "metadata": {},
     "output_type": "execute_result"
    }
   ],
   "source": [
    "df.count()"
   ]
  },
  {
   "cell_type": "code",
   "execution_count": 8,
   "metadata": {},
   "outputs": [],
   "source": [
    "from pyspark.ml.fpm import FPGrowth\n",
    "from pyspark.sql import functions as F"
   ]
  },
  {
   "cell_type": "code",
   "execution_count": 9,
   "metadata": {},
   "outputs": [],
   "source": [
    "df = df.filter(df['rating'] > 3.0).drop_duplicates()"
   ]
  },
  {
   "cell_type": "code",
   "execution_count": 8,
   "metadata": {},
   "outputs": [],
   "source": [
    "# Skip for more than 10M\n",
    "# df = df.sort(F.col('userId'), F.col('movieId'))"
   ]
  },
  {
   "cell_type": "code",
   "execution_count": 10,
   "metadata": {},
   "outputs": [
    {
     "data": {
      "text/plain": [
       "15630129"
      ]
     },
     "execution_count": 10,
     "metadata": {},
     "output_type": "execute_result"
    }
   ],
   "source": [
    "df.count()"
   ]
  },
  {
   "cell_type": "markdown",
   "metadata": {},
   "source": [
    "## 1k"
   ]
  },
  {
   "cell_type": "code",
   "execution_count": 11,
   "metadata": {},
   "outputs": [],
   "source": [
    "df_1k = df.limit(1000)"
   ]
  },
  {
   "cell_type": "code",
   "execution_count": 12,
   "metadata": {},
   "outputs": [
    {
     "name": "stdout",
     "output_type": "stream",
     "text": [
      "+------+-------+------+----------+\n",
      "|userId|movieId|rating| timestamp|\n",
      "+------+-------+------+----------+\n",
      "|     2|   5952|   5.0|1141415528|\n",
      "|     3|   5782|   4.0|1484754375|\n",
      "|     3|   8783|   4.0|1566090061|\n",
      "|     3|  90866|   3.5|1566090425|\n",
      "|    12|   1343|   4.5|1167582491|\n",
      "|    12|   6539|   3.5|1167574710|\n",
      "|    12|  40870|   4.0|1225098996|\n",
      "|    18|    733|   4.0|1108273563|\n",
      "|    23|    372|   4.0| 943135548|\n",
      "|    23|   1147|   5.0| 942967008|\n",
      "+------+-------+------+----------+\n",
      "only showing top 10 rows\n",
      "\n"
     ]
    }
   ],
   "source": [
    "df_1k.show(10)"
   ]
  },
  {
   "cell_type": "code",
   "execution_count": 13,
   "metadata": {},
   "outputs": [],
   "source": [
    "movies_rating = df_1k.groupBy('userId').agg(F.collect_set('movieId').alias('movieIds'))"
   ]
  },
  {
   "cell_type": "code",
   "execution_count": 14,
   "metadata": {},
   "outputs": [
    {
     "name": "stdout",
     "output_type": "stream",
     "text": [
      "+------+-------------------+\n",
      "|userId|           movieIds|\n",
      "+------+-------------------+\n",
      "| 32911|          [474, 21]|\n",
      "| 32914|             [1663]|\n",
      "| 32916|            [33794]|\n",
      "| 32917|             [2396]|\n",
      "| 32922| [2404, 5572, 5810]|\n",
      "| 32923|            [91529]|\n",
      "| 32928|             [1428]|\n",
      "| 32929|             [1721]|\n",
      "| 32933|[71033, 2160, 1093]|\n",
      "| 32934|              [107]|\n",
      "+------+-------------------+\n",
      "only showing top 10 rows\n",
      "\n"
     ]
    }
   ],
   "source": [
    "movies_rating.show(10)"
   ]
  },
  {
   "cell_type": "code",
   "execution_count": 15,
   "metadata": {},
   "outputs": [],
   "source": [
    "fpGrowth = FPGrowth(itemsCol=\"movieIds\", minSupport=0.5, minConfidence=0.5)"
   ]
  },
  {
   "cell_type": "code",
   "execution_count": 16,
   "metadata": {},
   "outputs": [
    {
     "name": "stdout",
     "output_type": "stream",
     "text": [
      "22.1 s ± 431 ms per loop (mean ± std. dev. of 7 runs, 1 loop each)\n"
     ]
    }
   ],
   "source": [
    "%%timeit\n",
    "model = fpGrowth.fit(movies_rating)"
   ]
  },
  {
   "cell_type": "code",
   "execution_count": 18,
   "metadata": {},
   "outputs": [
    {
     "name": "stdout",
     "output_type": "stream",
     "text": [
      "22.68 s\n"
     ]
    }
   ],
   "source": [
    "import time\n",
    "start = time.time()\n",
    "model = fpGrowth.fit(movies_rating)\n",
    "end = time.time()\n",
    "print('{:.2f} s'.format(end - start))"
   ]
  },
  {
   "cell_type": "code",
   "execution_count": 19,
   "metadata": {},
   "outputs": [
    {
     "name": "stdout",
     "output_type": "stream",
     "text": [
      "+----------+----------+----------+----+\n",
      "|antecedent|consequent|confidence|lift|\n",
      "+----------+----------+----------+----+\n",
      "+----------+----------+----------+----+\n",
      "\n",
      "0.3412 s\n"
     ]
    }
   ],
   "source": [
    "# Display generated association rules.\n",
    "import time\n",
    "start = time.time()\n",
    "model.associationRules.show()\n",
    "end = time.time()\n",
    "print('{:.4f} s'.format(end - start))"
   ]
  },
  {
   "cell_type": "markdown",
   "metadata": {},
   "source": [
    "## 10k ratings"
   ]
  },
  {
   "cell_type": "code",
   "execution_count": 20,
   "metadata": {},
   "outputs": [],
   "source": [
    "training_df = df.limit(10000)"
   ]
  },
  {
   "cell_type": "code",
   "execution_count": 21,
   "metadata": {},
   "outputs": [
    {
     "name": "stdout",
     "output_type": "stream",
     "text": [
      "+------+-------+------+----------+\n",
      "|userId|movieId|rating| timestamp|\n",
      "+------+-------+------+----------+\n",
      "| 32906|   2470|   4.0| 965801332|\n",
      "| 32906|   2989|   4.0| 965801729|\n",
      "| 32906|   3062|   5.0| 965798832|\n",
      "| 32912|    376|   4.0| 862430318|\n",
      "| 32922|   1753|   3.5|1070161136|\n",
      "| 32922|   2474|   4.0|1068252703|\n",
      "| 32922|   8016|   4.5|1110294181|\n",
      "| 32922|  62235|   4.0|1234216474|\n",
      "| 32922|  68791|   3.5|1298106255|\n",
      "| 32923|   2959|   5.0|1547047970|\n",
      "+------+-------+------+----------+\n",
      "only showing top 10 rows\n",
      "\n"
     ]
    }
   ],
   "source": [
    "training_df.show(10)"
   ]
  },
  {
   "cell_type": "code",
   "execution_count": 22,
   "metadata": {},
   "outputs": [],
   "source": [
    "movies_rating = training_df.groupBy('userId').agg(F.collect_set('movieId').alias('movieIds'))"
   ]
  },
  {
   "cell_type": "code",
   "execution_count": 23,
   "metadata": {},
   "outputs": [
    {
     "name": "stdout",
     "output_type": "stream",
     "text": [
      "+------+--------------------+\n",
      "|userId|            movieIds|\n",
      "+------+--------------------+\n",
      "| 32906|  [2989, 2470, 3062]|\n",
      "| 32912|               [376]|\n",
      "| 32922|[62235, 2474, 801...|\n",
      "| 32923|              [2959]|\n",
      "| 32927|             [87232]|\n",
      "| 32928|    [1084, 50, 1178]|\n",
      "| 32932|       [1206, 30707]|\n",
      "| 32933|    [106916, 147750]|\n",
      "| 32936|      [4995, 164179]|\n",
      "| 32937|              [3175]|\n",
      "+------+--------------------+\n",
      "only showing top 10 rows\n",
      "\n"
     ]
    }
   ],
   "source": [
    "movies_rating.show(10)"
   ]
  },
  {
   "cell_type": "code",
   "execution_count": 24,
   "metadata": {},
   "outputs": [
    {
     "data": {
      "text/plain": [
       "6153"
      ]
     },
     "execution_count": 24,
     "metadata": {},
     "output_type": "execute_result"
    }
   ],
   "source": [
    "movies_rating.count()"
   ]
  },
  {
   "cell_type": "code",
   "execution_count": 25,
   "metadata": {},
   "outputs": [],
   "source": [
    "fpGrowth = FPGrowth(itemsCol=\"movieIds\", minSupport=0.25, minConfidence=0.5)"
   ]
  },
  {
   "cell_type": "code",
   "execution_count": 26,
   "metadata": {},
   "outputs": [
    {
     "name": "stdout",
     "output_type": "stream",
     "text": [
      "22.7 s ± 382 ms per loop (mean ± std. dev. of 7 runs, 1 loop each)\n"
     ]
    }
   ],
   "source": [
    "%%timeit\n",
    "fpGrowth.fit(movies_rating)"
   ]
  },
  {
   "cell_type": "code",
   "execution_count": 27,
   "metadata": {},
   "outputs": [
    {
     "name": "stdout",
     "output_type": "stream",
     "text": [
      "22.45 s\n"
     ]
    }
   ],
   "source": [
    "import time\n",
    "start = time.time()\n",
    "model = fpGrowth.fit(movies_rating)\n",
    "end = time.time()\n",
    "print('{:.2f} s'.format(end - start))"
   ]
  },
  {
   "cell_type": "code",
   "execution_count": 28,
   "metadata": {},
   "outputs": [
    {
     "data": {
      "text/plain": [
       "0"
      ]
     },
     "execution_count": 28,
     "metadata": {},
     "output_type": "execute_result"
    }
   ],
   "source": [
    "# Display generated association rules.\n",
    "model.associationRules.count()"
   ]
  },
  {
   "cell_type": "code",
   "execution_count": 29,
   "metadata": {},
   "outputs": [
    {
     "name": "stdout",
     "output_type": "stream",
     "text": [
      "+----------+----------+----------+----+\n",
      "|antecedent|consequent|confidence|lift|\n",
      "+----------+----------+----------+----+\n",
      "+----------+----------+----------+----+\n",
      "\n",
      "0.0643 s\n"
     ]
    }
   ],
   "source": [
    "# Display generated association rules.\n",
    "import time\n",
    "start = time.time()\n",
    "model.associationRules.show()\n",
    "end = time.time()\n",
    "print('{:.4f} s'.format(end - start))"
   ]
  },
  {
   "cell_type": "markdown",
   "metadata": {},
   "source": [
    "## 100k ratings"
   ]
  },
  {
   "cell_type": "code",
   "execution_count": 30,
   "metadata": {},
   "outputs": [],
   "source": [
    "training_df = df.limit(100000)"
   ]
  },
  {
   "cell_type": "code",
   "execution_count": 31,
   "metadata": {},
   "outputs": [],
   "source": [
    "movies_rating = training_df.groupBy('userId').agg(F.collect_set('movieId').alias('movieIds'))"
   ]
  },
  {
   "cell_type": "code",
   "execution_count": 32,
   "metadata": {},
   "outputs": [
    {
     "name": "stdout",
     "output_type": "stream",
     "text": [
      "+------+--------------------+\n",
      "|userId|            movieIds|\n",
      "+------+--------------------+\n",
      "|     2|              [5952]|\n",
      "|     3|[5013, 1222, 9086...|\n",
      "|     5|               [170]|\n",
      "|    12|[40870, 1257, 121...|\n",
      "|    13|              [1097]|\n",
      "|    16|              [6350]|\n",
      "|    18|[1682, 733, 1608,...|\n",
      "|    19|[148468, 1721, 59...|\n",
      "|    23|[5060, 2734, 2797...|\n",
      "|    27|               [969]|\n",
      "+------+--------------------+\n",
      "only showing top 10 rows\n",
      "\n"
     ]
    }
   ],
   "source": [
    "movies_rating.show(10)"
   ]
  },
  {
   "cell_type": "code",
   "execution_count": 33,
   "metadata": {},
   "outputs": [
    {
     "data": {
      "text/plain": [
       "54726"
      ]
     },
     "execution_count": 33,
     "metadata": {},
     "output_type": "execute_result"
    }
   ],
   "source": [
    "movies_rating.count()"
   ]
  },
  {
   "cell_type": "code",
   "execution_count": 34,
   "metadata": {},
   "outputs": [],
   "source": [
    "fpGrowth = FPGrowth(itemsCol=\"movieIds\", minSupport=0.1, minConfidence=0.8)"
   ]
  },
  {
   "cell_type": "code",
   "execution_count": 35,
   "metadata": {},
   "outputs": [
    {
     "name": "stdout",
     "output_type": "stream",
     "text": [
      "24.5 s ± 487 ms per loop (mean ± std. dev. of 7 runs, 1 loop each)\n"
     ]
    }
   ],
   "source": [
    "%%timeit\n",
    "fpGrowth.fit(movies_rating)"
   ]
  },
  {
   "cell_type": "code",
   "execution_count": 36,
   "metadata": {},
   "outputs": [
    {
     "name": "stdout",
     "output_type": "stream",
     "text": [
      "24.97 s\n"
     ]
    }
   ],
   "source": [
    "start = time.time()\n",
    "model = fpGrowth.fit(movies_rating)\n",
    "end = time.time()\n",
    "print('{:.2f} s'.format(end - start))"
   ]
  },
  {
   "cell_type": "code",
   "execution_count": 37,
   "metadata": {},
   "outputs": [
    {
     "data": {
      "text/plain": [
       "0"
      ]
     },
     "execution_count": 37,
     "metadata": {},
     "output_type": "execute_result"
    }
   ],
   "source": [
    "# Display generated association rules.\n",
    "model.associationRules.count()"
   ]
  },
  {
   "cell_type": "code",
   "execution_count": 38,
   "metadata": {},
   "outputs": [
    {
     "name": "stdout",
     "output_type": "stream",
     "text": [
      "+----------+----------+----------+----+\n",
      "|antecedent|consequent|confidence|lift|\n",
      "+----------+----------+----------+----+\n",
      "+----------+----------+----------+----+\n",
      "\n",
      "0.0798 s\n"
     ]
    }
   ],
   "source": [
    "# Display generated association rules.\n",
    "start = time.time()\n",
    "model.associationRules.show()\n",
    "end = time.time()\n",
    "print('{:.4f} s'.format(end - start))"
   ]
  },
  {
   "cell_type": "markdown",
   "metadata": {},
   "source": [
    "## 1M ratings"
   ]
  },
  {
   "cell_type": "code",
   "execution_count": 39,
   "metadata": {},
   "outputs": [],
   "source": [
    "training_df = df.limit(1000000)"
   ]
  },
  {
   "cell_type": "code",
   "execution_count": 40,
   "metadata": {},
   "outputs": [],
   "source": [
    "movies_rating = training_df.groupBy('userId').agg(F.collect_set('movieId').alias('movieIds'))"
   ]
  },
  {
   "cell_type": "code",
   "execution_count": 41,
   "metadata": {},
   "outputs": [
    {
     "data": {
      "text/plain": [
       "141625"
      ]
     },
     "execution_count": 41,
     "metadata": {},
     "output_type": "execute_result"
    }
   ],
   "source": [
    "movies_rating.count()"
   ]
  },
  {
   "cell_type": "code",
   "execution_count": 42,
   "metadata": {},
   "outputs": [],
   "source": [
    "fpGrowth = FPGrowth(itemsCol=\"movieIds\", minSupport=0.1, minConfidence=0.8)"
   ]
  },
  {
   "cell_type": "code",
   "execution_count": 43,
   "metadata": {},
   "outputs": [
    {
     "name": "stdout",
     "output_type": "stream",
     "text": [
      "25.8 s ± 682 ms per loop (mean ± std. dev. of 7 runs, 1 loop each)\n"
     ]
    }
   ],
   "source": [
    "%%timeit\n",
    "fpGrowth.fit(movies_rating)"
   ]
  },
  {
   "cell_type": "code",
   "execution_count": 44,
   "metadata": {},
   "outputs": [],
   "source": [
    "model = fpGrowth.fit(movies_rating)"
   ]
  },
  {
   "cell_type": "code",
   "execution_count": 45,
   "metadata": {},
   "outputs": [
    {
     "name": "stdout",
     "output_type": "stream",
     "text": [
      "1.0202 s\n"
     ]
    }
   ],
   "source": [
    "start = time.time()\n",
    "model.associationRules.count()\n",
    "end = time.time()\n",
    "print('{:.4f} s'.format(end - start))"
   ]
  },
  {
   "cell_type": "code",
   "execution_count": 46,
   "metadata": {},
   "outputs": [
    {
     "name": "stdout",
     "output_type": "stream",
     "text": [
      "+----------+----------+----------+----+\n",
      "|antecedent|consequent|confidence|lift|\n",
      "+----------+----------+----------+----+\n",
      "+----------+----------+----------+----+\n",
      "\n"
     ]
    }
   ],
   "source": [
    "model.associationRules.show()"
   ]
  },
  {
   "cell_type": "markdown",
   "metadata": {},
   "source": [
    "## 2M ratings"
   ]
  },
  {
   "cell_type": "code",
   "execution_count": 47,
   "metadata": {},
   "outputs": [],
   "source": [
    "training_df = df.limit(2000000)"
   ]
  },
  {
   "cell_type": "code",
   "execution_count": 48,
   "metadata": {},
   "outputs": [],
   "source": [
    "movies_rating = training_df.groupBy('userId').agg(F.collect_set('movieId').alias('movieIds'))"
   ]
  },
  {
   "cell_type": "code",
   "execution_count": 49,
   "metadata": {},
   "outputs": [
    {
     "data": {
      "text/plain": [
       "155608"
      ]
     },
     "execution_count": 49,
     "metadata": {},
     "output_type": "execute_result"
    }
   ],
   "source": [
    "movies_rating.count()"
   ]
  },
  {
   "cell_type": "code",
   "execution_count": 50,
   "metadata": {},
   "outputs": [],
   "source": [
    "fpGrowth = FPGrowth(itemsCol=\"movieIds\", minSupport=0.1, minConfidence=0.8)"
   ]
  },
  {
   "cell_type": "code",
   "execution_count": 51,
   "metadata": {},
   "outputs": [
    {
     "name": "stdout",
     "output_type": "stream",
     "text": [
      "26.1 s ± 756 ms per loop (mean ± std. dev. of 7 runs, 1 loop each)\n"
     ]
    }
   ],
   "source": [
    "%%timeit\n",
    "fpGrowth.fit(movies_rating)"
   ]
  },
  {
   "cell_type": "code",
   "execution_count": 52,
   "metadata": {},
   "outputs": [],
   "source": [
    "model = fpGrowth.fit(movies_rating)"
   ]
  },
  {
   "cell_type": "code",
   "execution_count": 53,
   "metadata": {},
   "outputs": [
    {
     "name": "stdout",
     "output_type": "stream",
     "text": [
      "1.6278 s\n"
     ]
    }
   ],
   "source": [
    "start = time.time()\n",
    "model.associationRules.count()\n",
    "end = time.time()\n",
    "print('{:.4f} s'.format(end - start))"
   ]
  },
  {
   "cell_type": "code",
   "execution_count": 54,
   "metadata": {},
   "outputs": [
    {
     "name": "stdout",
     "output_type": "stream",
     "text": [
      "+----------+----------+----------+----+\n",
      "|antecedent|consequent|confidence|lift|\n",
      "+----------+----------+----------+----+\n",
      "+----------+----------+----------+----+\n",
      "\n",
      "0.0594 s\n"
     ]
    }
   ],
   "source": [
    "start = time.time()\n",
    "model.associationRules.show()\n",
    "end = time.time()\n",
    "print('{:.4f} s'.format(end - start))"
   ]
  },
  {
   "cell_type": "markdown",
   "metadata": {},
   "source": [
    "## 5M ratings"
   ]
  },
  {
   "cell_type": "code",
   "execution_count": 55,
   "metadata": {},
   "outputs": [],
   "source": [
    "training_df = df.limit(5000000)"
   ]
  },
  {
   "cell_type": "code",
   "execution_count": 56,
   "metadata": {},
   "outputs": [],
   "source": [
    "movies_rating = training_df.groupBy('userId').agg(F.collect_set('movieId').alias('movieIds'))"
   ]
  },
  {
   "cell_type": "code",
   "execution_count": 57,
   "metadata": {},
   "outputs": [
    {
     "data": {
      "text/plain": [
       "161705"
      ]
     },
     "execution_count": 57,
     "metadata": {},
     "output_type": "execute_result"
    }
   ],
   "source": [
    "movies_rating.count()"
   ]
  },
  {
   "cell_type": "code",
   "execution_count": 58,
   "metadata": {},
   "outputs": [],
   "source": [
    "fpGrowth = FPGrowth(itemsCol=\"movieIds\", minSupport=0.1, minConfidence=0.8)"
   ]
  },
  {
   "cell_type": "code",
   "execution_count": 59,
   "metadata": {},
   "outputs": [
    {
     "name": "stdout",
     "output_type": "stream",
     "text": [
      "30.7 s ± 2.04 s per loop (mean ± std. dev. of 7 runs, 1 loop each)\n"
     ]
    }
   ],
   "source": [
    "%%timeit\n",
    "fpGrowth.fit(movies_rating)"
   ]
  },
  {
   "cell_type": "code",
   "execution_count": 60,
   "metadata": {},
   "outputs": [
    {
     "name": "stdout",
     "output_type": "stream",
     "text": [
      "31.6478 s\n"
     ]
    }
   ],
   "source": [
    "start = time.time()\n",
    "model = fpGrowth.fit(movies_rating)\n",
    "end = time.time()\n",
    "print('{:.4f} s'.format(end - start))"
   ]
  },
  {
   "cell_type": "code",
   "execution_count": 61,
   "metadata": {},
   "outputs": [
    {
     "name": "stdout",
     "output_type": "stream",
     "text": [
      "4.5718 s\n"
     ]
    }
   ],
   "source": [
    "start = time.time()\n",
    "model.associationRules.count()\n",
    "end = time.time()\n",
    "print('{:.4f} s'.format(end - start))"
   ]
  },
  {
   "cell_type": "code",
   "execution_count": 62,
   "metadata": {},
   "outputs": [
    {
     "name": "stdout",
     "output_type": "stream",
     "text": [
      "+----------+----------+----------+----+\n",
      "|antecedent|consequent|confidence|lift|\n",
      "+----------+----------+----------+----+\n",
      "+----------+----------+----------+----+\n",
      "\n",
      "0.0932 s\n"
     ]
    }
   ],
   "source": [
    "start = time.time()\n",
    "model.associationRules.show()\n",
    "end = time.time()\n",
    "print('{:.4f} s'.format(end - start))"
   ]
  },
  {
   "cell_type": "markdown",
   "metadata": {},
   "source": [
    "## 10M ratings"
   ]
  },
  {
   "cell_type": "code",
   "execution_count": 63,
   "metadata": {},
   "outputs": [],
   "source": [
    "training_df = df.limit(10000000)"
   ]
  },
  {
   "cell_type": "code",
   "execution_count": 64,
   "metadata": {},
   "outputs": [],
   "source": [
    "movies_rating = training_df.groupBy('userId').agg(F.collect_set('movieId').alias('movieIds'))"
   ]
  },
  {
   "cell_type": "code",
   "execution_count": 65,
   "metadata": {},
   "outputs": [
    {
     "name": "stdout",
     "output_type": "stream",
     "text": [
      "+------+--------------------+\n",
      "|userId|            movieIds|\n",
      "+------+--------------------+\n",
      "|     1|[2843, 1217, 2632...|\n",
      "|     2|[4995, 4720, 1293...|\n",
      "|     3|[356, 104841, 436...|\n",
      "|     4|[1220, 4974, 7028...|\n",
      "|     5|[1271, 1, 1120, 3...|\n",
      "|     6|[858, 902, 924, 9...|\n",
      "|     7|[150, 527, 593, 3...|\n",
      "|     8|[161, 1242, 1, 78...|\n",
      "|     9|[539, 1374, 256, ...|\n",
      "|    10|[110, 1, 32, 5395...|\n",
      "+------+--------------------+\n",
      "only showing top 10 rows\n",
      "\n"
     ]
    }
   ],
   "source": [
    "movies_rating.show(10)"
   ]
  },
  {
   "cell_type": "code",
   "execution_count": 66,
   "metadata": {},
   "outputs": [],
   "source": [
    "fpGrowth = FPGrowth(itemsCol=\"movieIds\", minSupport=0.1, minConfidence=0.8)"
   ]
  },
  {
   "cell_type": "code",
   "execution_count": 67,
   "metadata": {},
   "outputs": [
    {
     "name": "stdout",
     "output_type": "stream",
     "text": [
      "36.3 s ± 1.91 s per loop (mean ± std. dev. of 7 runs, 1 loop each)\n"
     ]
    }
   ],
   "source": [
    "%%timeit\n",
    "fpGrowth.fit(movies_rating)"
   ]
  },
  {
   "cell_type": "code",
   "execution_count": 68,
   "metadata": {},
   "outputs": [
    {
     "name": "stdout",
     "output_type": "stream",
     "text": [
      "32.37 s\n"
     ]
    }
   ],
   "source": [
    "start = time.time()\n",
    "model = fpGrowth.fit(movies_rating)\n",
    "end = time.time()\n",
    "print('{:.2f} s'.format(end - start))"
   ]
  },
  {
   "cell_type": "code",
   "execution_count": 69,
   "metadata": {},
   "outputs": [
    {
     "name": "stdout",
     "output_type": "stream",
     "text": [
      "+----------+----------+----------+----+\n",
      "|antecedent|consequent|confidence|lift|\n",
      "+----------+----------+----------+----+\n",
      "+----------+----------+----------+----+\n",
      "\n",
      "35.90 s\n"
     ]
    }
   ],
   "source": [
    "start = time.time()\n",
    "model.associationRules.show()\n",
    "end = time.time()\n",
    "print('{:.2f} s'.format(end - start))"
   ]
  },
  {
   "cell_type": "markdown",
   "metadata": {},
   "source": [
    "## 15M ratings"
   ]
  },
  {
   "cell_type": "code",
   "execution_count": 70,
   "metadata": {},
   "outputs": [],
   "source": [
    "training_df = df"
   ]
  },
  {
   "cell_type": "code",
   "execution_count": 71,
   "metadata": {},
   "outputs": [],
   "source": [
    "movies_rating = training_df.groupBy('userId').agg(F.collect_set('movieId').alias('movieIds'))"
   ]
  },
  {
   "cell_type": "code",
   "execution_count": 72,
   "metadata": {},
   "outputs": [
    {
     "name": "stdout",
     "output_type": "stream",
     "text": [
      "+------+--------------------+\n",
      "|userId|            movieIds|\n",
      "+------+--------------------+\n",
      "|   148|[110, 356, 2186, ...|\n",
      "|   463|[799, 785, 648, 3...|\n",
      "|   471|[356, 103141, 922...|\n",
      "|   496|[1220, 1947, 4995...|\n",
      "|   833|[44195, 356, 1446...|\n",
      "|  1088|[356, 589, 8604, ...|\n",
      "|  1238|[110, 356, 4262, ...|\n",
      "|  1342|[356, 4008, 306, ...|\n",
      "|  1580|[1271, 2273, 277,...|\n",
      "|  1591|[3753, 2701, 2890...|\n",
      "+------+--------------------+\n",
      "only showing top 10 rows\n",
      "\n"
     ]
    }
   ],
   "source": [
    "movies_rating.show(10)"
   ]
  },
  {
   "cell_type": "code",
   "execution_count": 73,
   "metadata": {},
   "outputs": [],
   "source": [
    "fpGrowth = FPGrowth(itemsCol=\"movieIds\", minSupport=0.05, minConfidence=0.5)"
   ]
  },
  {
   "cell_type": "code",
   "execution_count": 74,
   "metadata": {},
   "outputs": [
    {
     "name": "stdout",
     "output_type": "stream",
     "text": [
      "59.05 s\n"
     ]
    }
   ],
   "source": [
    "start = time.time()\n",
    "model = fpGrowth.fit(movies_rating)\n",
    "end = time.time()\n",
    "print('{:.2f} s'.format(end - start))"
   ]
  },
  {
   "cell_type": "code",
   "execution_count": 76,
   "metadata": {},
   "outputs": [
    {
     "name": "stdout",
     "output_type": "stream",
     "text": [
      "70.34 s\n"
     ]
    }
   ],
   "source": [
    "start = time.time()\n",
    "model = fpGrowth.fit(movies_rating)\n",
    "end = time.time()\n",
    "print('{:.2f} s'.format(end - start))"
   ]
  },
  {
   "cell_type": "code",
   "execution_count": 80,
   "metadata": {},
   "outputs": [],
   "source": [
    "fpGrowth = FPGrowth(itemsCol=\"movieIds\", minSupport=0.1, minConfidence=0.8)"
   ]
  },
  {
   "cell_type": "code",
   "execution_count": 81,
   "metadata": {},
   "outputs": [
    {
     "name": "stdout",
     "output_type": "stream",
     "text": [
      "66.92 s\n"
     ]
    }
   ],
   "source": [
    "start = time.time()\n",
    "model = fpGrowth.fit(movies_rating)\n",
    "end = time.time()\n",
    "print('{:.2f} s'.format(end - start))"
   ]
  },
  {
   "cell_type": "code",
   "execution_count": 82,
   "metadata": {},
   "outputs": [
    {
     "name": "stdout",
     "output_type": "stream",
     "text": [
      "1721.46 s\n"
     ]
    }
   ],
   "source": [
    "start = time.time()\n",
    "model.associationRules.count()\n",
    "end = time.time()\n",
    "print('{:.2f} s'.format(end - start))"
   ]
  },
  {
   "cell_type": "code",
   "execution_count": 83,
   "metadata": {},
   "outputs": [
    {
     "data": {
      "text/plain": [
       "1020"
      ]
     },
     "execution_count": 83,
     "metadata": {},
     "output_type": "execute_result"
    }
   ],
   "source": [
    "model.associationRules.count()"
   ]
  },
  {
   "cell_type": "code",
   "execution_count": 84,
   "metadata": {},
   "outputs": [
    {
     "name": "stdout",
     "output_type": "stream",
     "text": [
      "+--------------------+----------+------------------+------------------+\n",
      "|          antecedent|consequent|        confidence|              lift|\n",
      "+--------------------+----------+------------------+------------------+\n",
      "|         [858, 2959]|     [296]|0.8097227341606258|1.9737698021276604|\n",
      "|        [1136, 1196]|     [260]|0.9076998050682261|2.6046494017729835|\n",
      "|[1291, 1210, 1198...|    [1196]|0.9666776823088786|3.2663155406934945|\n",
      "|          [608, 593]|     [296]|0.8216192698651268| 2.002768645722954|\n",
      "|         [480, 1210]|     [260]|0.9049160117121282| 2.596661291982572|\n",
      "|         [480, 1210]|    [1196]|0.8930497765449221| 3.017533576211683|\n",
      "|           [1, 1210]|     [260]|0.9071204345009717| 2.602986894859378|\n",
      "|           [1, 1210]|    [1196]|0.8460311923862673|2.8586620775214433|\n",
      "|  [7153, 1198, 2571]|    [4993]|0.9319274475524476|3.2543122869658836|\n",
      "|  [7153, 1198, 2571]|    [5952]|0.9122049825174825|  3.47194553877471|\n",
      "+--------------------+----------+------------------+------------------+\n",
      "only showing top 10 rows\n",
      "\n"
     ]
    }
   ],
   "source": [
    "model.associationRules.show(10)"
   ]
  },
  {
   "cell_type": "code",
   "execution_count": 85,
   "metadata": {},
   "outputs": [
    {
     "name": "stdout",
     "output_type": "stream",
     "text": [
      "+--------------------+----------+------------------+------------------+\n",
      "|          antecedent|consequent|        confidence|              lift|\n",
      "+--------------------+----------+------------------+------------------+\n",
      "|         [858, 2959]|     [296]|0.8097227341606258|1.9737698021276604|\n",
      "|        [1136, 1196]|     [260]|0.9076998050682261|2.6046494017729835|\n",
      "|[1291, 1210, 1198...|    [1196]|0.9666776823088786|3.2663155406934945|\n",
      "|          [608, 593]|     [296]|0.8216192698651268| 2.002768645722954|\n",
      "|         [480, 1210]|     [260]|0.9049160117121282| 2.596661291982572|\n",
      "|         [480, 1210]|    [1196]|0.8930497765449221| 3.017533576211683|\n",
      "|           [1, 1210]|     [260]|0.9071204345009717| 2.602986894859378|\n",
      "|           [1, 1210]|    [1196]|0.8460311923862673|2.8586620775214433|\n",
      "|  [7153, 1198, 2571]|    [4993]|0.9319274475524476|3.2543122869658836|\n",
      "|  [7153, 1198, 2571]|    [5952]|0.9122049825174825|  3.47194553877471|\n",
      "|        [7153, 2959]|    [2571]|0.8447453155914187| 2.221513717619532|\n",
      "|        [7153, 2959]|    [4993]|0.9132560034138961| 3.189111170467954|\n",
      "|        [7153, 2959]|    [5952]| 0.886293983008108| 3.373325622334994|\n",
      "|   [1210, 1198, 318]|     [260]|0.9315006759801713|2.6729461270078363|\n",
      "|   [1210, 1198, 318]|    [1196]|0.9394434429923388|3.1742935350689185|\n",
      "|         [1136, 260]|    [1196]|0.8785849056603774|2.9686580994845637|\n",
      "|[7153, 4993, 2571...|    [5952]|0.9370399450387673|3.5664699482922377|\n",
      "|[5952, 4993, 260,...|    [1196]|0.8968816617916812|3.0304811662519837|\n",
      "|[5952, 4993, 260,...|    [7153]|0.9291061424817808|3.5478298033300253|\n",
      "|     [527, 593, 296]|     [318]|0.8135784271221712|   1.7759808427545|\n",
      "+--------------------+----------+------------------+------------------+\n",
      "only showing top 20 rows\n",
      "\n"
     ]
    }
   ],
   "source": [
    "model.associationRules.show(20)"
   ]
  },
  {
   "cell_type": "code",
   "execution_count": 86,
   "metadata": {},
   "outputs": [
    {
     "name": "stdout",
     "output_type": "stream",
     "text": [
      "+--------------------+----------+------------------+------------------+\n",
      "|          antecedent|consequent|        confidence|              lift|\n",
      "+--------------------+----------+------------------+------------------+\n",
      "|         [858, 2959]|     [296]|0.8097227341606258|1.9737698021276604|\n",
      "|        [1136, 1196]|     [260]|0.9076998050682261|2.6046494017729835|\n",
      "|[1291, 1210, 1198...|    [1196]|0.9666776823088786|3.2663155406934945|\n",
      "|          [608, 593]|     [296]|0.8216192698651268| 2.002768645722954|\n",
      "|         [480, 1210]|     [260]|0.9049160117121282| 2.596661291982572|\n",
      "|         [480, 1210]|    [1196]|0.8930497765449221| 3.017533576211683|\n",
      "|           [1, 1210]|     [260]|0.9071204345009717| 2.602986894859378|\n",
      "|           [1, 1210]|    [1196]|0.8460311923862673|2.8586620775214433|\n",
      "|  [7153, 1198, 2571]|    [4993]|0.9319274475524476|3.2543122869658836|\n",
      "|  [7153, 1198, 2571]|    [5952]|0.9122049825174825|  3.47194553877471|\n",
      "|        [7153, 2959]|    [2571]|0.8447453155914187| 2.221513717619532|\n",
      "|        [7153, 2959]|    [4993]|0.9132560034138961| 3.189111170467954|\n",
      "|        [7153, 2959]|    [5952]| 0.886293983008108| 3.373325622334994|\n",
      "|   [1210, 1198, 318]|     [260]|0.9315006759801713|2.6729461270078363|\n",
      "|   [1210, 1198, 318]|    [1196]|0.9394434429923388|3.1742935350689185|\n",
      "|         [1136, 260]|    [1196]|0.8785849056603774|2.9686580994845637|\n",
      "|[7153, 4993, 2571...|    [5952]|0.9370399450387673|3.5664699482922377|\n",
      "|[5952, 4993, 260,...|    [7153]|0.9291061424817808|3.5478298033300253|\n",
      "|[5952, 4993, 260,...|    [1196]|0.8968816617916812|3.0304811662519837|\n",
      "|     [527, 593, 296]|     [318]|0.8135784271221712|   1.7759808427545|\n",
      "| [33794, 5952, 4993]|    [7153]|0.9612155610736668|3.6704409314230957|\n",
      "|    [1210, 260, 593]|    [1196]|0.9273107529075699| 3.133298284118627|\n",
      "|         [1196, 296]|     [260]|0.8850210970464135| 2.539572728899226|\n",
      "|         [1221, 296]|     [858]|0.9584729710039341| 3.362917025548347|\n",
      "|        [1221, 2571]|     [858]| 0.954027397260274|3.3473191985014075|\n",
      "|   [5952, 2959, 318]|    [7153]|0.9082631578947369|3.4682400142551857|\n",
      "|   [5952, 2959, 318]|    [2571]|0.8724736842105263| 2.294433863038074|\n",
      "|   [5952, 2959, 318]|    [4993]|0.9365263157894737|3.2703716416390365|\n",
      "|        [2858, 1196]|     [260]| 0.861962598804704|2.4734062459764523|\n",
      "|        [2858, 1196]|    [2571]|0.8034991324465008| 2.113044383768617|\n",
      "|   [1210, 2571, 296]|     [260]|0.9182432055360232|2.6349037452990753|\n",
      "|   [1210, 2571, 296]|    [1196]|0.9248283944416541| 3.124910621733139|\n",
      "|  [3578, 7153, 2571]|    [4993]|0.9405646359583952|3.2844735494419868|\n",
      "|  [3578, 7153, 2571]|    [5952]|0.9310206880786376| 3.543560040157571|\n",
      "|   [1198, 1196, 593]|     [260]|0.9153338148797854|2.6265552333902025|\n",
      "|  [1196, 2959, 2571]|     [260]|0.9075292038873074| 2.604159860780091|\n",
      "|   [1210, 110, 1196]|     [260]|0.9380500431406384| 2.691739570788757|\n",
      "|  [4306, 5952, 4993]|    [7153]|0.9098606937995083| 3.474340270443029|\n",
      "| [33794, 7153, 4993]|    [5952]|0.9582694801367441|3.6472717319771553|\n",
      "|    [2858, 593, 318]|     [296]|0.8346460544983122| 2.034522569681203|\n",
      "|    [7153, 356, 318]|    [4993]|0.9196282121377802|3.2113630712996226|\n",
      "|    [7153, 356, 318]|    [5952]|0.9033351558228541| 3.438186070439938|\n",
      "|   [7153, 5952, 296]|    [2571]|0.8560552324206743|2.2512565701901166|\n",
      "|   [7153, 5952, 296]|    [2959]|0.8069702558282499| 2.538804957579602|\n",
      "|   [7153, 5952, 296]|    [4993]|0.9573934837092731| 3.343240276567575|\n",
      "|    [4226, 296, 318]|    [2959]|0.8506926361837308|2.6763597127914234|\n",
      "|        [1036, 1198]|     [260]|0.8074180449638506|2.3168903596247143|\n",
      "|        [1036, 1198]|    [1196]|0.8062790927998416|2.7243433660930254|\n",
      "|         [1210, 296]|     [260]|0.8977969762419007|2.5762331819673507|\n",
      "|         [1210, 296]|    [1196]|0.8891144708423326|3.0042365379030644|\n",
      "+--------------------+----------+------------------+------------------+\n",
      "only showing top 50 rows\n",
      "\n"
     ]
    }
   ],
   "source": [
    "model.associationRules.show(50)"
   ]
  },
  {
   "cell_type": "code",
   "execution_count": 87,
   "metadata": {},
   "outputs": [],
   "source": [
    "spark.stop()"
   ]
  }
 ],
 "metadata": {
  "kernelspec": {
   "display_name": "Python 3",
   "language": "python",
   "name": "python3"
  },
  "language_info": {
   "codemirror_mode": {
    "name": "ipython",
    "version": 3
   },
   "file_extension": ".py",
   "mimetype": "text/x-python",
   "name": "python",
   "nbconvert_exporter": "python",
   "pygments_lexer": "ipython3",
   "version": "3.7.6"
  }
 },
 "nbformat": 4,
 "nbformat_minor": 4
}