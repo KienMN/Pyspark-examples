{
 "cells": [
  {
   "cell_type": "markdown",
   "metadata": {},
   "source": [
    "# Frequent patterns on MovieLens 25M dataset using FP-Growth\n",
    "This notebook provides code to mine frequent patterns on MovieLens 25M.  \n",
    "I select only good ratings (>3.0) and apply fp-growth algorithms (implemented by [PySpark](https://spark.apache.org/docs/latest/ml-frequent-pattern-mining.html#fp-growth)) on different size of dataset (1k, 10k, 100k, 1M, 2M, 5M, 10M, all~15M) with sorting.  \n",
    "The dataset is downloaded from https://grouplens.org/datasets/movielens/, extracted and copied to the directory `/opt/spark/data`.\n",
    "\n",
    "The association rules and the elapsed time is shown bellow.  \n",
    "Please ignore the ordering number of execution cells because I had to restart the notebook several times."
   ]
  },
  {
   "cell_type": "code",
   "execution_count": 1,
   "metadata": {},
   "outputs": [],
   "source": [
    "import pyspark\n",
    "import os\n",
    "import socket"
   ]
  },
  {
   "cell_type": "code",
   "execution_count": 2,
   "metadata": {},
   "outputs": [],
   "source": [
    "from pyspark.ml.fpm import FPGrowth\n",
    "from pyspark.sql import functions as F\n",
    "import time"
   ]
  },
  {
   "cell_type": "code",
   "execution_count": 3,
   "metadata": {},
   "outputs": [],
   "source": [
    "os.environ['PYSPARK_PYTHON'] = 'python3'\n",
    "driver_host = socket.gethostbyname(socket.gethostname())"
   ]
  },
  {
   "cell_type": "code",
   "execution_count": 134,
   "metadata": {},
   "outputs": [
    {
     "data": {
      "text/plain": [
       "<pyspark.conf.SparkConf at 0x7fad9a88d9d0>"
      ]
     },
     "execution_count": 134,
     "metadata": {},
     "output_type": "execute_result"
    }
   ],
   "source": [
    "conf = pyspark.SparkConf()\n",
    "\n",
    "conf.setMaster(\"k8s://https://kubernetes.default.svc.cluster.local:443\") \n",
    "\n",
    "conf.set(\"spark.kubernetes.container.image\", \"gcr.io/spark-operator/spark-py:v2.4.5\")\n",
    "conf.set(\"spark.kubernetes.authenticate.caCertFile\", \"/var/run/secrets/kubernetes.io/serviceaccount/ca.crt\")\n",
    "conf.set(\"spark.kubernetes.authenticate.oauthTokenFile\", \"/var/run/secrets/kubernetes.io/serviceaccount/token\")\n",
    "conf.set(\"spark.kubernetes.authenticate.driver.serviceAccountName\", \"spark\") \n",
    "conf.set(\"spark.executor.instances\", \"2\")\n",
    "conf.set(\"spark.executor.memory\", \"2g\")\n",
    "conf.set(\"spark.kubernetes.pyspark.pythonVersion\", \"3\")\n",
    "conf.set(\"spark.driver.host\", driver_host)\n",
    "conf.set(\"spark.driver.port\", \"29413\")\n",
    "conf.set(\"spark.memory.offHeap.enabled\", \"false\")\n",
    "conf.set(\"spark.driver.memory\", \"2g\")"
   ]
  },
  {
   "cell_type": "code",
   "execution_count": 135,
   "metadata": {},
   "outputs": [],
   "source": [
    "spark = pyspark.sql.SparkSession.builder.config(conf=conf).getOrCreate()"
   ]
  },
  {
   "cell_type": "code",
   "execution_count": 136,
   "metadata": {},
   "outputs": [],
   "source": [
    "df = spark.read.load('/opt/spark/data/ratings.csv', format='csv', sep=',', inferSchema=True, header=True)"
   ]
  },
  {
   "cell_type": "code",
   "execution_count": 8,
   "metadata": {},
   "outputs": [
    {
     "name": "stdout",
     "output_type": "stream",
     "text": [
      "+------+-------+------+----------+\n",
      "|userId|movieId|rating| timestamp|\n",
      "+------+-------+------+----------+\n",
      "|     1|    296|   5.0|1147880044|\n",
      "|     1|    306|   3.5|1147868817|\n",
      "|     1|    307|   5.0|1147868828|\n",
      "|     1|    665|   5.0|1147878820|\n",
      "|     1|    899|   3.5|1147868510|\n",
      "|     1|   1088|   4.0|1147868495|\n",
      "|     1|   1175|   3.5|1147868826|\n",
      "|     1|   1217|   3.5|1147878326|\n",
      "|     1|   1237|   5.0|1147868839|\n",
      "|     1|   1250|   4.0|1147868414|\n",
      "+------+-------+------+----------+\n",
      "only showing top 10 rows\n",
      "\n"
     ]
    }
   ],
   "source": [
    "df.show(10)"
   ]
  },
  {
   "cell_type": "code",
   "execution_count": 9,
   "metadata": {},
   "outputs": [
    {
     "data": {
      "text/plain": [
       "25000095"
      ]
     },
     "execution_count": 9,
     "metadata": {},
     "output_type": "execute_result"
    }
   ],
   "source": [
    "df.count()"
   ]
  },
  {
   "cell_type": "code",
   "execution_count": 137,
   "metadata": {},
   "outputs": [],
   "source": [
    "df = df.filter(df['rating'] > 3.0).drop_duplicates()"
   ]
  },
  {
   "cell_type": "code",
   "execution_count": 71,
   "metadata": {},
   "outputs": [],
   "source": [
    "# Skip for more than 10M\n",
    "df = df.sort(F.col('userId'), F.col('movieId'))"
   ]
  },
  {
   "cell_type": "code",
   "execution_count": 138,
   "metadata": {},
   "outputs": [
    {
     "data": {
      "text/plain": [
       "15630129"
      ]
     },
     "execution_count": 138,
     "metadata": {},
     "output_type": "execute_result"
    }
   ],
   "source": [
    "df.count()"
   ]
  },
  {
   "cell_type": "markdown",
   "metadata": {},
   "source": [
    "## 1k"
   ]
  },
  {
   "cell_type": "code",
   "execution_count": 13,
   "metadata": {},
   "outputs": [],
   "source": [
    "training_df = df.limit(1000)"
   ]
  },
  {
   "cell_type": "code",
   "execution_count": 14,
   "metadata": {},
   "outputs": [
    {
     "name": "stdout",
     "output_type": "stream",
     "text": [
      "+------+-------+------+----------+\n",
      "|userId|movieId|rating| timestamp|\n",
      "+------+-------+------+----------+\n",
      "|     1|    296|   5.0|1147880044|\n",
      "|     1|    306|   3.5|1147868817|\n",
      "|     1|    307|   5.0|1147868828|\n",
      "|     1|    665|   5.0|1147878820|\n",
      "|     1|    899|   3.5|1147868510|\n",
      "|     1|   1088|   4.0|1147868495|\n",
      "|     1|   1175|   3.5|1147868826|\n",
      "|     1|   1217|   3.5|1147878326|\n",
      "|     1|   1237|   5.0|1147868839|\n",
      "|     1|   1250|   4.0|1147868414|\n",
      "+------+-------+------+----------+\n",
      "only showing top 10 rows\n",
      "\n"
     ]
    }
   ],
   "source": [
    "training_df.show(10)"
   ]
  },
  {
   "cell_type": "code",
   "execution_count": 15,
   "metadata": {},
   "outputs": [],
   "source": [
    "movies_rating = training_df.groupBy('userId').agg(F.collect_set('movieId').alias('movieIds'))"
   ]
  },
  {
   "cell_type": "code",
   "execution_count": 16,
   "metadata": {},
   "outputs": [
    {
     "name": "stdout",
     "output_type": "stream",
     "text": [
      "+------+--------------------+\n",
      "|userId|            movieIds|\n",
      "+------+--------------------+\n",
      "|     1|[5147, 1250, 306,...|\n",
      "|     2|[356, 2028, 6311,...|\n",
      "|     3|[356, 1222, 10484...|\n",
      "|     4|[70286, 2028, 916...|\n",
      "|     5|[356, 1120, 104, ...|\n",
      "|     6|[858, 2396, 902, ...|\n",
      "|     7|[306, 307, 17, 30...|\n",
      "|     8|[1220, 356, 589, ...|\n",
      "+------+--------------------+\n",
      "\n"
     ]
    }
   ],
   "source": [
    "movies_rating.show(10)"
   ]
  },
  {
   "cell_type": "code",
   "execution_count": 17,
   "metadata": {},
   "outputs": [
    {
     "data": {
      "text/plain": [
       "8"
      ]
     },
     "execution_count": 17,
     "metadata": {},
     "output_type": "execute_result"
    }
   ],
   "source": [
    "movies_rating.count()"
   ]
  },
  {
   "cell_type": "code",
   "execution_count": 18,
   "metadata": {},
   "outputs": [],
   "source": [
    "fpGrowth = FPGrowth(itemsCol=\"movieIds\", minSupport=0.5, minConfidence=0.5)"
   ]
  },
  {
   "cell_type": "code",
   "execution_count": 19,
   "metadata": {},
   "outputs": [
    {
     "name": "stdout",
     "output_type": "stream",
     "text": [
      "21.4 s ± 446 ms per loop (mean ± std. dev. of 7 runs, 1 loop each)\n"
     ]
    }
   ],
   "source": [
    "%%timeit\n",
    "model = fpGrowth.fit(movies_rating)"
   ]
  },
  {
   "cell_type": "code",
   "execution_count": 20,
   "metadata": {},
   "outputs": [
    {
     "name": "stdout",
     "output_type": "stream",
     "text": [
      "21.20 s\n"
     ]
    }
   ],
   "source": [
    "start = time.time()\n",
    "model = fpGrowth.fit(movies_rating)\n",
    "end = time.time()\n",
    "print('{:.2f} s'.format(end - start))"
   ]
  },
  {
   "cell_type": "code",
   "execution_count": 21,
   "metadata": {},
   "outputs": [
    {
     "name": "stdout",
     "output_type": "stream",
     "text": [
      "0.48 s\n"
     ]
    }
   ],
   "source": [
    "start = time.time()\n",
    "model.associationRules.count()\n",
    "end = time.time()\n",
    "print('{:.2f} s'.format(end - start))"
   ]
  },
  {
   "cell_type": "code",
   "execution_count": 22,
   "metadata": {},
   "outputs": [
    {
     "name": "stdout",
     "output_type": "stream",
     "text": [
      "+----------+----------+------------------+------------------+\n",
      "|antecedent|consequent|        confidence|              lift|\n",
      "+----------+----------+------------------+------------------+\n",
      "|    [6539]|    [5952]|               1.0|               2.0|\n",
      "|     [593]|     [296]|               0.8|1.0666666666666667|\n",
      "|    [1196]|     [260]|               1.0|               1.6|\n",
      "|     [356]|       [1]|               1.0|               2.0|\n",
      "|     [260]|    [1196]|               1.0|               1.6|\n",
      "|     [296]|     [593]|0.6666666666666666|1.0666666666666667|\n",
      "|       [1]|     [356]|               1.0|               2.0|\n",
      "|    [5952]|    [6539]|               1.0|               2.0|\n",
      "+----------+----------+------------------+------------------+\n",
      "\n",
      "0.12 s\n"
     ]
    }
   ],
   "source": [
    "# Display generated association rules.\n",
    "start = time.time()\n",
    "model.associationRules.show()\n",
    "end = time.time()\n",
    "print('{:.2f} s'.format(end - start))"
   ]
  },
  {
   "cell_type": "markdown",
   "metadata": {},
   "source": [
    "## 10k ratings"
   ]
  },
  {
   "cell_type": "code",
   "execution_count": 23,
   "metadata": {},
   "outputs": [],
   "source": [
    "training_df = df.limit(10000)"
   ]
  },
  {
   "cell_type": "code",
   "execution_count": 24,
   "metadata": {},
   "outputs": [
    {
     "name": "stdout",
     "output_type": "stream",
     "text": [
      "+------+-------+------+----------+\n",
      "|userId|movieId|rating| timestamp|\n",
      "+------+-------+------+----------+\n",
      "|     1|    296|   5.0|1147880044|\n",
      "|     1|    306|   3.5|1147868817|\n",
      "|     1|    307|   5.0|1147868828|\n",
      "|     1|    665|   5.0|1147878820|\n",
      "|     1|    899|   3.5|1147868510|\n",
      "|     1|   1088|   4.0|1147868495|\n",
      "|     1|   1175|   3.5|1147868826|\n",
      "|     1|   1217|   3.5|1147878326|\n",
      "|     1|   1237|   5.0|1147868839|\n",
      "|     1|   1250|   4.0|1147868414|\n",
      "+------+-------+------+----------+\n",
      "only showing top 10 rows\n",
      "\n"
     ]
    }
   ],
   "source": [
    "training_df.show(10)"
   ]
  },
  {
   "cell_type": "code",
   "execution_count": 25,
   "metadata": {},
   "outputs": [],
   "source": [
    "movies_rating = training_df.groupBy('userId').agg(F.collect_set('movieId').alias('movieIds'))"
   ]
  },
  {
   "cell_type": "code",
   "execution_count": 26,
   "metadata": {},
   "outputs": [
    {
     "data": {
      "text/plain": [
       "120"
      ]
     },
     "execution_count": 26,
     "metadata": {},
     "output_type": "execute_result"
    }
   ],
   "source": [
    "movies_rating.count()"
   ]
  },
  {
   "cell_type": "code",
   "execution_count": 27,
   "metadata": {},
   "outputs": [],
   "source": [
    "fpGrowth = FPGrowth(itemsCol=\"movieIds\", minSupport=0.25, minConfidence=0.5)"
   ]
  },
  {
   "cell_type": "code",
   "execution_count": 28,
   "metadata": {},
   "outputs": [
    {
     "name": "stdout",
     "output_type": "stream",
     "text": [
      "22 s ± 170 ms per loop (mean ± std. dev. of 7 runs, 1 loop each)\n"
     ]
    }
   ],
   "source": [
    "%%timeit\n",
    "fpGrowth.fit(movies_rating)"
   ]
  },
  {
   "cell_type": "code",
   "execution_count": 29,
   "metadata": {},
   "outputs": [
    {
     "name": "stdout",
     "output_type": "stream",
     "text": [
      "21.83 s\n"
     ]
    }
   ],
   "source": [
    "start = time.time()\n",
    "model = fpGrowth.fit(movies_rating)\n",
    "end = time.time()\n",
    "print('{:.2f} s'.format(end - start))"
   ]
  },
  {
   "cell_type": "code",
   "execution_count": 30,
   "metadata": {},
   "outputs": [
    {
     "name": "stdout",
     "output_type": "stream",
     "text": [
      "0.50 s\n"
     ]
    }
   ],
   "source": [
    "start = time.time()\n",
    "model.associationRules.count()\n",
    "end = time.time()\n",
    "print('{:.2f} s'.format(end - start))"
   ]
  },
  {
   "cell_type": "code",
   "execution_count": 31,
   "metadata": {},
   "outputs": [
    {
     "name": "stdout",
     "output_type": "stream",
     "text": [
      "+------------+----------+------------------+------------------+\n",
      "|  antecedent|consequent|        confidence|              lift|\n",
      "+------------+----------+------------------+------------------+\n",
      "|       [527]|     [318]|0.6818181818181818|1.6042780748663101|\n",
      "|       [593]|     [296]|0.6595744680851063| 1.615284411636995|\n",
      "|       [593]|     [318]|0.6595744680851063|1.5519399249061325|\n",
      "|      [2571]|     [260]|0.6956521739130435|1.6368286445012787|\n",
      "| [1210, 260]|    [1196]|0.8857142857142857| 2.657142857142857|\n",
      "|[1210, 1196]|     [260]|           0.96875|2.2794117647058822|\n",
      "|      [1196]|    [1210]|               0.8|2.5945945945945947|\n",
      "|      [1196]|     [260]|             0.925|2.1764705882352944|\n",
      "|      [1210]|    [1196]|0.8648648648648649|2.5945945945945947|\n",
      "|      [1210]|     [260]|0.9459459459459459|2.2257551669316378|\n",
      "|       [260]|    [1210]|0.6862745098039216|2.2257551669316373|\n",
      "|       [260]|    [2571]|0.6274509803921569|1.6368286445012787|\n",
      "|       [260]|    [1196]|0.7254901960784313|2.1764705882352944|\n",
      "|       [260]|     [318]|0.6078431372549019|1.4302191464821221|\n",
      "|       [296]|     [593]|0.6326530612244898|1.6152844116369953|\n",
      "|       [318]|     [260]|0.6078431372549019|1.4302191464821221|\n",
      "|       [318]|     [593]|0.6078431372549019|1.5519399249061325|\n",
      "|       [318]|     [527]|0.5882352941176471|1.6042780748663104|\n",
      "| [1196, 260]|    [1210]|0.8378378378378378|2.7173119065010956|\n",
      "+------------+----------+------------------+------------------+\n",
      "\n",
      "0.17 s\n"
     ]
    }
   ],
   "source": [
    "# Display generated association rules.\n",
    "start = time.time()\n",
    "model.associationRules.show()\n",
    "end = time.time()\n",
    "print('{:.2f} s'.format(end - start))"
   ]
  },
  {
   "cell_type": "code",
   "execution_count": 32,
   "metadata": {},
   "outputs": [
    {
     "data": {
      "text/plain": [
       "19"
      ]
     },
     "execution_count": 32,
     "metadata": {},
     "output_type": "execute_result"
    }
   ],
   "source": [
    "model.associationRules.count()"
   ]
  },
  {
   "cell_type": "markdown",
   "metadata": {},
   "source": [
    "## 100k ratings"
   ]
  },
  {
   "cell_type": "code",
   "execution_count": 33,
   "metadata": {},
   "outputs": [],
   "source": [
    "training_df = df.limit(100000)"
   ]
  },
  {
   "cell_type": "code",
   "execution_count": 34,
   "metadata": {},
   "outputs": [],
   "source": [
    "movies_rating = training_df.groupBy('userId').agg(F.collect_set('movieId').alias('movieIds'))"
   ]
  },
  {
   "cell_type": "code",
   "execution_count": 35,
   "metadata": {},
   "outputs": [
    {
     "data": {
      "text/plain": [
       "1128"
      ]
     },
     "execution_count": 35,
     "metadata": {},
     "output_type": "execute_result"
    }
   ],
   "source": [
    "movies_rating.count()"
   ]
  },
  {
   "cell_type": "code",
   "execution_count": 36,
   "metadata": {},
   "outputs": [],
   "source": [
    "fpGrowth = FPGrowth(itemsCol=\"movieIds\", minSupport=0.1, minConfidence=0.8)"
   ]
  },
  {
   "cell_type": "code",
   "execution_count": 37,
   "metadata": {},
   "outputs": [
    {
     "name": "stdout",
     "output_type": "stream",
     "text": [
      "24.9 s ± 316 ms per loop (mean ± std. dev. of 7 runs, 1 loop each)\n"
     ]
    }
   ],
   "source": [
    "%%timeit\n",
    "fpGrowth.fit(movies_rating)"
   ]
  },
  {
   "cell_type": "code",
   "execution_count": 38,
   "metadata": {},
   "outputs": [
    {
     "name": "stdout",
     "output_type": "stream",
     "text": [
      "25.26 s\n"
     ]
    }
   ],
   "source": [
    "start = time.time()\n",
    "model = fpGrowth.fit(movies_rating)\n",
    "end = time.time()\n",
    "print('{:.2f} s'.format(end - start))"
   ]
  },
  {
   "cell_type": "code",
   "execution_count": 39,
   "metadata": {},
   "outputs": [
    {
     "name": "stdout",
     "output_type": "stream",
     "text": [
      "2.79 s\n"
     ]
    }
   ],
   "source": [
    "start = time.time()\n",
    "model.associationRules.count()\n",
    "end = time.time()\n",
    "print('{:.2f} s'.format(end - start))"
   ]
  },
  {
   "cell_type": "code",
   "execution_count": 40,
   "metadata": {},
   "outputs": [
    {
     "name": "stdout",
     "output_type": "stream",
     "text": [
      "+------------------+----------+------------------+------------------+\n",
      "|        antecedent|consequent|        confidence|              lift|\n",
      "+------------------+----------+------------------+------------------+\n",
      "|       [1270, 589]|    [2571]|0.8308823529411765| 2.200082850041425|\n",
      "|[1210, 4993, 1196]|    [5952]|0.8625954198473282|3.7137695938465125|\n",
      "|[1210, 4993, 1196]|     [260]|0.9007633587786259|2.7837289553487397|\n",
      "|       [541, 1196]|     [260]|0.8778625954198473|2.7129561852975006|\n",
      "| [1196, 2571, 296]|     [260]|0.8880597014925373|2.7444694336536495|\n",
      "|   [260, 296, 318]|     [593]|0.8085106382978723|  2.18705035971223|\n",
      "|   [260, 296, 318]|    [1196]|0.8723404255319149|3.0559006211180124|\n",
      "|   [527, 593, 356]|     [318]|0.8260869565217391| 1.921290900941282|\n",
      "|  [260, 2571, 318]|    [1196]|0.8819444444444444| 3.089544513457557|\n",
      "|[7153, 4993, 2959]|    [2571]|0.8823529411764706| 2.336371168185584|\n",
      "|[7153, 4993, 2959]|    [5952]|0.9411764705882353|  4.05208801077683|\n",
      "| [1198, 1196, 356]|     [260]|0.9147286821705426| 2.826887543803759|\n",
      "|  [1198, 260, 296]|    [1196]|0.9338842975206612|3.2714953031158567|\n",
      "|         [457, 50]|     [318]|0.8661971830985915|  2.01457819079425|\n",
      "|       [1704, 296]|     [318]|0.8333333333333334|1.9381443298969072|\n",
      "|       [1089, 318]|     [296]|0.9333333333333333| 2.376523702031603|\n",
      "|      [1270, 1210]|     [260]|0.8759124087591241|2.7069293070692932|\n",
      "|      [1270, 1210]|    [1196]|0.9197080291970803|   3.2218343383053|\n",
      "|       [5952, 318]|    [7153]|0.9150326797385621|3.9546239951919464|\n",
      "|       [5952, 318]|    [4993]|0.9477124183006536| 3.623795280824194|\n",
      "+------------------+----------+------------------+------------------+\n",
      "only showing top 20 rows\n",
      "\n",
      "0.12 s\n"
     ]
    }
   ],
   "source": [
    "# Display generated association rules.\n",
    "start = time.time()\n",
    "model.associationRules.show()\n",
    "end = time.time()\n",
    "print('{:.2f} s'.format(end - start))"
   ]
  },
  {
   "cell_type": "code",
   "execution_count": 41,
   "metadata": {},
   "outputs": [
    {
     "data": {
      "text/plain": [
       "436"
      ]
     },
     "execution_count": 41,
     "metadata": {},
     "output_type": "execute_result"
    }
   ],
   "source": [
    "model.associationRules.count()"
   ]
  },
  {
   "cell_type": "markdown",
   "metadata": {},
   "source": [
    "## 1M ratings"
   ]
  },
  {
   "cell_type": "code",
   "execution_count": 42,
   "metadata": {},
   "outputs": [],
   "source": [
    "training_df = df.limit(1000000)"
   ]
  },
  {
   "cell_type": "code",
   "execution_count": 43,
   "metadata": {},
   "outputs": [],
   "source": [
    "movies_rating = training_df.groupBy('userId').agg(F.collect_set('movieId').alias('movieIds'))"
   ]
  },
  {
   "cell_type": "code",
   "execution_count": 44,
   "metadata": {},
   "outputs": [
    {
     "data": {
      "text/plain": [
       "10641"
      ]
     },
     "execution_count": 44,
     "metadata": {},
     "output_type": "execute_result"
    }
   ],
   "source": [
    "movies_rating.count()"
   ]
  },
  {
   "cell_type": "code",
   "execution_count": 45,
   "metadata": {},
   "outputs": [],
   "source": [
    "fpGrowth = FPGrowth(itemsCol=\"movieIds\", minSupport=0.1, minConfidence=0.8)"
   ]
  },
  {
   "cell_type": "code",
   "execution_count": 46,
   "metadata": {},
   "outputs": [
    {
     "name": "stdout",
     "output_type": "stream",
     "text": [
      "27.23 s\n"
     ]
    }
   ],
   "source": [
    "start = time.time()\n",
    "model = fpGrowth.fit(movies_rating)\n",
    "end = time.time()\n",
    "print('{:.2f} s'.format(end - start))"
   ]
  },
  {
   "cell_type": "code",
   "execution_count": 47,
   "metadata": {},
   "outputs": [
    {
     "name": "stdout",
     "output_type": "stream",
     "text": [
      "8.87 s\n"
     ]
    }
   ],
   "source": [
    "start = time.time()\n",
    "model.associationRules.count()\n",
    "end = time.time()\n",
    "print('{:.2f} s'.format(end - start))"
   ]
  },
  {
   "cell_type": "code",
   "execution_count": 48,
   "metadata": {},
   "outputs": [
    {
     "name": "stdout",
     "output_type": "stream",
     "text": [
      "+--------------------+----------+------------------+------------------+\n",
      "|          antecedent|consequent|        confidence|              lift|\n",
      "+--------------------+----------+------------------+------------------+\n",
      "|  [1210, 4993, 1196]|     [260]|0.9416224412433661|2.7383996712956162|\n",
      "|  [1210, 4993, 1196]|    [2571]|0.8498862774829417|  2.25865131835564|\n",
      "|  [1210, 4993, 1196]|    [5952]|0.8946171341925702| 3.450388156920311|\n",
      "|  [1210, 4993, 1196]|    [7153]|0.8605003790750568|3.3068199832927703|\n",
      "|   [1196, 2571, 296]|     [260]|0.8978374347501864| 2.611065357523021|\n",
      "|     [260, 296, 318]|    [1196]|0.8198263386396527|2.8041697426758416|\n",
      "|        [3578, 1196]|     [260]|0.8902243589743589|2.5889252265225893|\n",
      "|        [3578, 1196]|    [2571]|0.8653846153846154|  2.29983958349343|\n",
      "|        [2762, 2959]|    [2571]|0.8323024054982818| 2.211920553673131|\n",
      "|           [47, 110]|     [296]|0.8140043763676149|1.9958111909971867|\n",
      "|    [260, 2571, 318]|    [1196]|0.8641638225255973|2.9558236051092512|\n",
      "|  [7153, 4993, 2959]|    [5952]|0.9353301565690946|3.6074114519941047|\n",
      "|  [7153, 4993, 2959]|    [2571]|0.8515997277059224| 2.263204970659021|\n",
      "|   [1198, 1196, 356]|     [260]| 0.932937181663837|2.7131414457734055|\n",
      "|   [5952, 2959, 296]|    [4993]|0.9371231696813093| 3.317341200458687|\n",
      "|    [1198, 260, 296]|    [1196]|0.8858024691358025|3.0298373751443504|\n",
      "|[1291, 1210, 1198...|     [260]|0.9564474807856533| 2.781513430729745|\n",
      "|  [6539, 5952, 7153]|    [4993]|0.9637742207245156|3.4116837933232107|\n",
      "|  [5952, 7153, 1196]|    [1210]|0.8147882268485284| 3.058258032414529|\n",
      "|  [5952, 7153, 1196]|    [4993]|0.9562096195262024|3.3849057090413575|\n",
      "+--------------------+----------+------------------+------------------+\n",
      "only showing top 20 rows\n",
      "\n",
      "0.11 s\n"
     ]
    }
   ],
   "source": [
    "# Display generated association rules.\n",
    "start = time.time()\n",
    "model.associationRules.show()\n",
    "end = time.time()\n",
    "print('{:.2f} s'.format(end - start))"
   ]
  },
  {
   "cell_type": "code",
   "execution_count": 49,
   "metadata": {},
   "outputs": [
    {
     "data": {
      "text/plain": [
       "769"
      ]
     },
     "execution_count": 49,
     "metadata": {},
     "output_type": "execute_result"
    }
   ],
   "source": [
    "model.associationRules.count()"
   ]
  },
  {
   "cell_type": "markdown",
   "metadata": {},
   "source": [
    "## 2M ratings"
   ]
  },
  {
   "cell_type": "code",
   "execution_count": 50,
   "metadata": {},
   "outputs": [],
   "source": [
    "training_df = df.limit(2000000)"
   ]
  },
  {
   "cell_type": "code",
   "execution_count": 51,
   "metadata": {},
   "outputs": [],
   "source": [
    "movies_rating = training_df.groupBy('userId').agg(F.collect_set('movieId').alias('movieIds'))"
   ]
  },
  {
   "cell_type": "code",
   "execution_count": 52,
   "metadata": {},
   "outputs": [
    {
     "data": {
      "text/plain": [
       "21022"
      ]
     },
     "execution_count": 52,
     "metadata": {},
     "output_type": "execute_result"
    }
   ],
   "source": [
    "movies_rating.count()"
   ]
  },
  {
   "cell_type": "code",
   "execution_count": 53,
   "metadata": {},
   "outputs": [],
   "source": [
    "fpGrowth = FPGrowth(itemsCol=\"movieIds\", minSupport=0.1, minConfidence=0.8)"
   ]
  },
  {
   "cell_type": "code",
   "execution_count": 66,
   "metadata": {},
   "outputs": [
    {
     "name": "stdout",
     "output_type": "stream",
     "text": [
      "29.5 s ± 439 ms per loop (mean ± std. dev. of 7 runs, 1 loop each)\n"
     ]
    }
   ],
   "source": [
    "%%timeit\n",
    "fpGrowth.fit(movies_rating)"
   ]
  },
  {
   "cell_type": "code",
   "execution_count": 54,
   "metadata": {},
   "outputs": [
    {
     "name": "stdout",
     "output_type": "stream",
     "text": [
      "30.81 s\n"
     ]
    }
   ],
   "source": [
    "start = time.time()\n",
    "model = fpGrowth.fit(movies_rating)\n",
    "end = time.time()\n",
    "print('{:.2f} s'.format(end - start))"
   ]
  },
  {
   "cell_type": "code",
   "execution_count": 55,
   "metadata": {},
   "outputs": [
    {
     "name": "stdout",
     "output_type": "stream",
     "text": [
      "16.77 s\n"
     ]
    }
   ],
   "source": [
    "start = time.time()\n",
    "model.associationRules.count()\n",
    "end = time.time()\n",
    "print('{:.2f} s'.format(end - start))"
   ]
  },
  {
   "cell_type": "code",
   "execution_count": 56,
   "metadata": {},
   "outputs": [
    {
     "name": "stdout",
     "output_type": "stream",
     "text": [
      "+--------------------+----------+------------------+------------------+\n",
      "|          antecedent|consequent|        confidence|              lift|\n",
      "+--------------------+----------+------------------+------------------+\n",
      "|  [1210, 4993, 1196]|     [260]|0.9481481481481482|2.7572237336243424|\n",
      "|  [1210, 4993, 1196]|    [2571]|0.8565302144249513| 2.268041084222361|\n",
      "|  [1210, 4993, 1196]|    [7153]|0.8643274853801169| 3.354854578593209|\n",
      "|  [1210, 4993, 1196]|    [5952]|0.8935672514619883| 3.478624214858133|\n",
      "|         [608, 2858]|     [296]|0.8265384615384616| 2.022993542724594|\n",
      "|   [1196, 2571, 296]|     [260]|0.9016086793864572| 2.621886520689183|\n",
      "|     [260, 296, 318]|    [1196]|0.8201077199281868|2.8142841149739377|\n",
      "|        [3578, 1196]|     [260]|0.8958926392842619|2.6052642223037425|\n",
      "|        [3578, 1196]|    [2571]|0.8674257828385522| 2.296891901603734|\n",
      "|        [2762, 2959]|    [2571]|0.8283453732370141| 2.193409300439414|\n",
      "|           [47, 110]|     [296]|0.8065217391304348|1.9740016299918501|\n",
      "|    [260, 2571, 318]|    [1196]|0.8632744894427138|2.9624153308953196|\n",
      "|  [7153, 4993, 2959]|    [2571]|0.8541595344060253|2.2617636644770704|\n",
      "|  [7153, 4993, 2959]|    [5952]|0.9315302978432044|3.6264129483814522|\n",
      "|   [1198, 1196, 356]|     [260]| 0.933933933933934| 2.715888664982592|\n",
      "|  [4993, 1198, 2571]|    [5952]|0.8860082304526748|3.4491972260326165|\n",
      "|   [5952, 2959, 296]|    [4993]|0.9382663847780127| 3.350473236080072|\n",
      "|   [5952, 2959, 296]|    [7153]|0.8955602536997885| 3.476083392407119|\n",
      "|    [1198, 260, 296]|    [1196]|0.8921644685802949|3.0615542700775316|\n",
      "|[1291, 1210, 1198...|     [260]|0.9557069846678024|2.7792049013261226|\n",
      "+--------------------+----------+------------------+------------------+\n",
      "only showing top 20 rows\n",
      "\n",
      "0.14 s\n"
     ]
    }
   ],
   "source": [
    "# Display generated association rules.\n",
    "start = time.time()\n",
    "model.associationRules.show()\n",
    "end = time.time()\n",
    "print('{:.2f} s'.format(end - start))"
   ]
  },
  {
   "cell_type": "code",
   "execution_count": 57,
   "metadata": {},
   "outputs": [
    {
     "data": {
      "text/plain": [
       "801"
      ]
     },
     "execution_count": 57,
     "metadata": {},
     "output_type": "execute_result"
    }
   ],
   "source": [
    "model.associationRules.count()"
   ]
  },
  {
   "cell_type": "markdown",
   "metadata": {},
   "source": [
    "## 5M ratings"
   ]
  },
  {
   "cell_type": "code",
   "execution_count": 73,
   "metadata": {},
   "outputs": [],
   "source": [
    "training_df = df.limit(5000000)"
   ]
  },
  {
   "cell_type": "code",
   "execution_count": 74,
   "metadata": {},
   "outputs": [],
   "source": [
    "movies_rating = training_df.groupBy('userId').agg(F.collect_set('movieId').alias('movieIds'))"
   ]
  },
  {
   "cell_type": "code",
   "execution_count": null,
   "metadata": {},
   "outputs": [],
   "source": [
    "movies_rating.count()"
   ]
  },
  {
   "cell_type": "code",
   "execution_count": 75,
   "metadata": {},
   "outputs": [
    {
     "name": "stdout",
     "output_type": "stream",
     "text": [
      "+------+--------------------+\n",
      "|userId|            movieIds|\n",
      "+------+--------------------+\n",
      "|     1|[5147, 1250, 306,...|\n",
      "|     2|[356, 2028, 6311,...|\n",
      "|     3|[356, 1222, 10484...|\n",
      "|     4|[70286, 2028, 916...|\n",
      "|     5|[356, 1120, 104, ...|\n",
      "|     6|[858, 2396, 902, ...|\n",
      "|     7|[306, 307, 17, 30...|\n",
      "|     8|[1220, 356, 589, ...|\n",
      "|     9|[356, 277, 256, 2...|\n",
      "|    10|[110, 356, 589, 1...|\n",
      "+------+--------------------+\n",
      "only showing top 10 rows\n",
      "\n"
     ]
    }
   ],
   "source": [
    "movies_rating.show(10)"
   ]
  },
  {
   "cell_type": "code",
   "execution_count": 76,
   "metadata": {},
   "outputs": [],
   "source": [
    "fpGrowth = FPGrowth(itemsCol=\"movieIds\", minSupport=0.1, minConfidence=0.8)"
   ]
  },
  {
   "cell_type": "code",
   "execution_count": 74,
   "metadata": {},
   "outputs": [
    {
     "name": "stdout",
     "output_type": "stream",
     "text": [
      "44.8 s ± 1.64 s per loop (mean ± std. dev. of 7 runs, 1 loop each)\n"
     ]
    }
   ],
   "source": [
    "%%timeit\n",
    "fpGrowth.fit(movies_rating)"
   ]
  },
  {
   "cell_type": "code",
   "execution_count": 77,
   "metadata": {},
   "outputs": [
    {
     "name": "stdout",
     "output_type": "stream",
     "text": [
      "44.41 s\n"
     ]
    }
   ],
   "source": [
    "start = time.time()\n",
    "model = fpGrowth.fit(movies_rating)\n",
    "end = time.time()\n",
    "print('{:.2f} s'.format(end - start))"
   ]
  },
  {
   "cell_type": "code",
   "execution_count": 78,
   "metadata": {},
   "outputs": [
    {
     "name": "stdout",
     "output_type": "stream",
     "text": [
      "58.54 s\n"
     ]
    }
   ],
   "source": [
    "start = time.time()\n",
    "model.associationRules.count()\n",
    "end = time.time()\n",
    "print('{:.2f} s'.format(end - start))"
   ]
  },
  {
   "cell_type": "code",
   "execution_count": 79,
   "metadata": {},
   "outputs": [
    {
     "name": "stdout",
     "output_type": "stream",
     "text": [
      "+--------------------+----------+------------------+------------------+\n",
      "|          antecedent|consequent|        confidence|              lift|\n",
      "+--------------------+----------+------------------+------------------+\n",
      "|  [1210, 4993, 1196]|     [260]| 0.949064130101258|2.7531285770852953|\n",
      "|  [1210, 4993, 1196]|    [2571]|0.8588524087143296| 2.266654830456025|\n",
      "|  [1210, 4993, 1196]|    [7153]|0.8659097882786131| 3.309965809774888|\n",
      "|  [1210, 4993, 1196]|    [5952]|0.8933722000613685|3.4111768732609304|\n",
      "|         [608, 2858]|     [296]|0.8264399509803921|2.0153590092627365|\n",
      "|   [1196, 2571, 296]|     [260]|0.8999551368326604| 2.610668896573252|\n",
      "|     [260, 296, 318]|    [1196]|0.8220769789397241| 2.804790386148062|\n",
      "|        [3578, 1196]|     [260]|0.8969638242894057|  2.60199143444543|\n",
      "|        [3578, 1196]|    [2571]|0.8675710594315246| 2.289664804652607|\n",
      "|        [2762, 2959]|    [2571]|0.8210063238933186| 2.166772696921803|\n",
      "|           [47, 110]|     [296]|0.8031542056074766| 1.958574318894087|\n",
      "|    [260, 2571, 318]|    [1196]| 0.861750516884907| 2.940149921403079|\n",
      "|  [7153, 4993, 2959]|    [2571]|0.8540431266846361|2.2539623326146923|\n",
      "|  [7153, 4993, 2959]|    [5952]| 0.931266846361186| 3.555870586664437|\n",
      "|   [1198, 1196, 356]|     [260]|0.9266272189349113|2.6880416147248036|\n",
      "|   [5952, 2959, 296]|    [7153]|0.8964997487857981| 3.426896839740989|\n",
      "|   [5952, 2959, 296]|    [2571]|0.8740579467425892| 2.306784782787452|\n",
      "|   [5952, 2959, 296]|    [4993]|0.9407134483336125| 3.299260451483686|\n",
      "|    [1198, 260, 296]|    [1196]|0.8963907902924705|3.0583367923605715|\n",
      "|[1291, 1210, 1198...|     [260]| 0.953611776788771|2.7663207899787943|\n",
      "+--------------------+----------+------------------+------------------+\n",
      "only showing top 20 rows\n",
      "\n",
      "0.15 s\n"
     ]
    }
   ],
   "source": [
    "# Display generated association rules.\n",
    "start = time.time()\n",
    "model.associationRules.show()\n",
    "end = time.time()\n",
    "print('{:.2f} s'.format(end - start))"
   ]
  },
  {
   "cell_type": "code",
   "execution_count": 80,
   "metadata": {},
   "outputs": [
    {
     "data": {
      "text/plain": [
       "916"
      ]
     },
     "execution_count": 80,
     "metadata": {},
     "output_type": "execute_result"
    }
   ],
   "source": [
    "model.associationRules.count()"
   ]
  },
  {
   "cell_type": "markdown",
   "metadata": {},
   "source": [
    "## 10M ratings"
   ]
  },
  {
   "cell_type": "code",
   "execution_count": 145,
   "metadata": {},
   "outputs": [],
   "source": [
    "training_df = df.limit(10000000)"
   ]
  },
  {
   "cell_type": "code",
   "execution_count": 149,
   "metadata": {},
   "outputs": [],
   "source": [
    "movies_rating = df.limit(10000000).groupBy('userId').agg(F.collect_set('movieId').alias('movieIds'))"
   ]
  },
  {
   "cell_type": "code",
   "execution_count": 150,
   "metadata": {},
   "outputs": [
    {
     "name": "stdout",
     "output_type": "stream",
     "text": [
      "+------+--------------------+\n",
      "|userId|            movieIds|\n",
      "+------+--------------------+\n",
      "|     1|[5147, 1250, 306,...|\n",
      "|     2|[356, 2028, 6311,...|\n",
      "|     3|[356, 1222, 10484...|\n",
      "|     4|[70286, 2028, 916...|\n",
      "|     5|[356, 1120, 104, ...|\n",
      "|     6|[858, 2396, 902, ...|\n",
      "|     7|[306, 307, 17, 30...|\n",
      "|     8|[1220, 356, 589, ...|\n",
      "|     9|[356, 277, 256, 2...|\n",
      "|    10|[110, 356, 589, 1...|\n",
      "+------+--------------------+\n",
      "only showing top 10 rows\n",
      "\n"
     ]
    }
   ],
   "source": [
    "movies_rating.show(10)"
   ]
  },
  {
   "cell_type": "code",
   "execution_count": 151,
   "metadata": {},
   "outputs": [],
   "source": [
    "fpGrowth = FPGrowth(itemsCol=\"movieIds\", minSupport=0.1, minConfidence=0.8)"
   ]
  },
  {
   "cell_type": "code",
   "execution_count": 152,
   "metadata": {},
   "outputs": [
    {
     "name": "stdout",
     "output_type": "stream",
     "text": [
      "61.94 s\n"
     ]
    }
   ],
   "source": [
    "start = time.time()\n",
    "model = fpGrowth.fit(movies_rating)\n",
    "end = time.time()\n",
    "print('{:.2f} s'.format(end - start))"
   ]
  },
  {
   "cell_type": "code",
   "execution_count": 154,
   "metadata": {},
   "outputs": [
    {
     "name": "stdout",
     "output_type": "stream",
     "text": [
      "131.21 s\n"
     ]
    }
   ],
   "source": [
    "start = time.time()\n",
    "model.associationRules.count()\n",
    "end = time.time()\n",
    "print('{:.2f} s'.format(end - start))"
   ]
  },
  {
   "cell_type": "code",
   "execution_count": 155,
   "metadata": {},
   "outputs": [
    {
     "name": "stdout",
     "output_type": "stream",
     "text": [
      "+--------------------+----------+------------------+------------------+\n",
      "|          antecedent|consequent|        confidence|              lift|\n",
      "+--------------------+----------+------------------+------------------+\n",
      "|  [1210, 4993, 1196]|     [260]|0.9492220113851992| 2.732647192244657|\n",
      "|  [1210, 4993, 1196]|    [2571]| 0.857988614800759|2.2541241922682214|\n",
      "|  [1210, 4993, 1196]|    [7153]|0.8614800759013282|  3.28633995515633|\n",
      "|  [1210, 4993, 1196]|    [5952]|0.8924478178368122|3.3988418566287004|\n",
      "|         [608, 2858]|     [296]|0.8294031799677395|2.0243769509928904|\n",
      "|   [1196, 2571, 296]|     [260]|0.9035687732342007|2.6012193581301184|\n",
      "|     [260, 296, 318]|    [1196]|0.8249856486796785| 2.791525280244771|\n",
      "|        [3578, 1196]|     [260]|0.8997562956945573| 2.590243889884287|\n",
      "|        [3578, 1196]|    [2571]|0.8656376929325751|2.2742199974666155|\n",
      "|        [2762, 2959]|    [2571]|0.8209027108848218|2.1566913921506328|\n",
      "|    [260, 2571, 318]|    [1196]|0.8643940940327958|2.9248726562075325|\n",
      "|  [7153, 4993, 2959]|    [2571]|0.8574493764248358|2.2527074948347123|\n",
      "|  [7153, 4993, 2959]|    [5952]|0.9291269947700147| 3.538532625473243|\n",
      "|   [1198, 1196, 356]|     [260]|0.9259165613147914| 2.665554802966872|\n",
      "|   [5952, 2959, 296]|    [7153]|0.8962969113251411|3.4191578351817804|\n",
      "|   [5952, 2959, 296]|    [2571]|0.8760378611756892|2.3015435195227996|\n",
      "|   [5952, 2959, 296]|    [4993]|0.9355695782132182|3.2634668079470104|\n",
      "|    [1198, 260, 296]|    [1196]|0.8989164086687307|3.0416867052676686|\n",
      "|[1291, 1210, 1198...|     [260]|0.9538487738419619|2.7459668469566303|\n",
      "|  [1270, 1210, 1198]|    [1196]|0.9461587186679938|3.2015417316807504|\n",
      "+--------------------+----------+------------------+------------------+\n",
      "only showing top 20 rows\n",
      "\n",
      "0.17 s\n"
     ]
    }
   ],
   "source": [
    "# Display generated association rules.\n",
    "start = time.time()\n",
    "model.associationRules.show()\n",
    "end = time.time()\n",
    "print('{:.2f} s'.format(end - start))"
   ]
  },
  {
   "cell_type": "code",
   "execution_count": 156,
   "metadata": {},
   "outputs": [
    {
     "data": {
      "text/plain": [
       "1006"
      ]
     },
     "execution_count": 156,
     "metadata": {},
     "output_type": "execute_result"
    }
   ],
   "source": [
    "model.associationRules.count()"
   ]
  },
  {
   "cell_type": "markdown",
   "metadata": {},
   "source": [
    "## 15M ratings"
   ]
  },
  {
   "cell_type": "code",
   "execution_count": 157,
   "metadata": {},
   "outputs": [],
   "source": [
    "training_df = df"
   ]
  },
  {
   "cell_type": "code",
   "execution_count": 158,
   "metadata": {},
   "outputs": [],
   "source": [
    "movies_rating = training_df.groupBy('userId').agg(F.collect_set('movieId').alias('movieIds'))"
   ]
  },
  {
   "cell_type": "code",
   "execution_count": 159,
   "metadata": {},
   "outputs": [
    {
     "name": "stdout",
     "output_type": "stream",
     "text": [
      "+------+--------------------+\n",
      "|userId|            movieIds|\n",
      "+------+--------------------+\n",
      "|   148|[110, 356, 2186, ...|\n",
      "|   463|[799, 785, 648, 3...|\n",
      "|   471|[356, 103141, 922...|\n",
      "|   496|[1220, 1947, 4995...|\n",
      "|   833|[44195, 356, 4551...|\n",
      "|  1088|[356, 589, 8604, ...|\n",
      "|  1238|[110, 356, 4262, ...|\n",
      "|  1342|[356, 4008, 306, ...|\n",
      "|  1580|[1271, 2273, 277,...|\n",
      "|  1591|[3863, 2701, 2890...|\n",
      "+------+--------------------+\n",
      "only showing top 10 rows\n",
      "\n"
     ]
    }
   ],
   "source": [
    "movies_rating.show(10)"
   ]
  },
  {
   "cell_type": "code",
   "execution_count": 160,
   "metadata": {},
   "outputs": [],
   "source": [
    "fpGrowth = FPGrowth(itemsCol=\"movieIds\", minSupport=0.1, minConfidence=0.8)"
   ]
  },
  {
   "cell_type": "code",
   "execution_count": 161,
   "metadata": {},
   "outputs": [
    {
     "name": "stdout",
     "output_type": "stream",
     "text": [
      "91.64 s\n"
     ]
    }
   ],
   "source": [
    "start = time.time()\n",
    "model = fpGrowth.fit(movies_rating)\n",
    "end = time.time()\n",
    "print('{:.2f} s'.format(end - start))"
   ]
  },
  {
   "cell_type": "code",
   "execution_count": 162,
   "metadata": {},
   "outputs": [
    {
     "name": "stdout",
     "output_type": "stream",
     "text": [
      "1625.45 s\n"
     ]
    }
   ],
   "source": [
    "start = time.time()\n",
    "model.associationRules.count()\n",
    "end = time.time()\n",
    "print('{:.2f} s'.format(end - start))"
   ]
  },
  {
   "cell_type": "code",
   "execution_count": 163,
   "metadata": {},
   "outputs": [
    {
     "name": "stdout",
     "output_type": "stream",
     "text": [
      "+--------------------+----------+------------------+------------------+\n",
      "|          antecedent|consequent|        confidence|              lift|\n",
      "+--------------------+----------+------------------+------------------+\n",
      "|         [858, 2959]|     [296]|0.8097227341606258|1.9737698021276604|\n",
      "|        [1136, 1196]|     [260]|0.9076998050682261|2.6046494017729835|\n",
      "|[1291, 1210, 1198...|    [1196]|0.9666776823088786|3.2663155406934945|\n",
      "|          [608, 593]|     [296]|0.8216192698651268| 2.002768645722954|\n",
      "|         [480, 1210]|     [260]|0.9049160117121282| 2.596661291982572|\n",
      "|         [480, 1210]|    [1196]|0.8930497765449221| 3.017533576211683|\n",
      "|           [1, 1210]|     [260]|0.9071204345009717| 2.602986894859378|\n",
      "|           [1, 1210]|    [1196]|0.8460311923862673|2.8586620775214433|\n",
      "|  [7153, 1198, 2571]|    [4993]|0.9319274475524476|3.2543122869658836|\n",
      "|  [7153, 1198, 2571]|    [5952]|0.9122049825174825|  3.47194553877471|\n",
      "|        [7153, 2959]|    [2571]|0.8447453155914187| 2.221513717619532|\n",
      "|        [7153, 2959]|    [4993]|0.9132560034138961| 3.189111170467954|\n",
      "|        [7153, 2959]|    [5952]| 0.886293983008108| 3.373325622334994|\n",
      "|   [1210, 1198, 318]|     [260]|0.9315006759801713|2.6729461270078363|\n",
      "|   [1210, 1198, 318]|    [1196]|0.9394434429923388|3.1742935350689185|\n",
      "|         [1136, 260]|    [1196]|0.8785849056603774|2.9686580994845637|\n",
      "|[7153, 4993, 2571...|    [5952]|0.9370399450387673|3.5664699482922377|\n",
      "|[5952, 4993, 260,...|    [7153]|0.9291061424817808|3.5478298033300253|\n",
      "|[5952, 4993, 260,...|    [1196]|0.8968816617916812|3.0304811662519837|\n",
      "|     [527, 593, 296]|     [318]|0.8135784271221712|   1.7759808427545|\n",
      "+--------------------+----------+------------------+------------------+\n",
      "only showing top 20 rows\n",
      "\n",
      "0.18 s\n"
     ]
    }
   ],
   "source": [
    "# Display generated association rules.\n",
    "start = time.time()\n",
    "model.associationRules.show()\n",
    "end = time.time()\n",
    "print('{:.2f} s'.format(end - start))"
   ]
  },
  {
   "cell_type": "code",
   "execution_count": 164,
   "metadata": {},
   "outputs": [
    {
     "data": {
      "text/plain": [
       "1020"
      ]
     },
     "execution_count": 164,
     "metadata": {},
     "output_type": "execute_result"
    }
   ],
   "source": [
    "model.associationRules.count()"
   ]
  },
  {
   "cell_type": "code",
   "execution_count": 165,
   "metadata": {},
   "outputs": [
    {
     "name": "stdout",
     "output_type": "stream",
     "text": [
      "+--------------------+----------+------------------+------------------+\n",
      "|          antecedent|consequent|        confidence|              lift|\n",
      "+--------------------+----------+------------------+------------------+\n",
      "|         [858, 2959]|     [296]|0.8097227341606258|1.9737698021276604|\n",
      "|        [1136, 1196]|     [260]|0.9076998050682261|2.6046494017729835|\n",
      "|[1291, 1210, 1198...|    [1196]|0.9666776823088786|3.2663155406934945|\n",
      "|          [608, 593]|     [296]|0.8216192698651268| 2.002768645722954|\n",
      "|         [480, 1210]|     [260]|0.9049160117121282| 2.596661291982572|\n",
      "|         [480, 1210]|    [1196]|0.8930497765449221| 3.017533576211683|\n",
      "|           [1, 1210]|     [260]|0.9071204345009717| 2.602986894859378|\n",
      "|           [1, 1210]|    [1196]|0.8460311923862673|2.8586620775214433|\n",
      "|  [7153, 1198, 2571]|    [4993]|0.9319274475524476|3.2543122869658836|\n",
      "|  [7153, 1198, 2571]|    [5952]|0.9122049825174825|  3.47194553877471|\n",
      "|        [7153, 2959]|    [2571]|0.8447453155914187| 2.221513717619532|\n",
      "|        [7153, 2959]|    [4993]|0.9132560034138961| 3.189111170467954|\n",
      "|        [7153, 2959]|    [5952]| 0.886293983008108| 3.373325622334994|\n",
      "|   [1210, 1198, 318]|     [260]|0.9315006759801713|2.6729461270078363|\n",
      "|   [1210, 1198, 318]|    [1196]|0.9394434429923388|3.1742935350689185|\n",
      "|         [1136, 260]|    [1196]|0.8785849056603774|2.9686580994845637|\n",
      "|[7153, 4993, 2571...|    [5952]|0.9370399450387673|3.5664699482922377|\n",
      "|[5952, 4993, 260,...|    [7153]|0.9291061424817808|3.5478298033300253|\n",
      "|[5952, 4993, 260,...|    [1196]|0.8968816617916812|3.0304811662519837|\n",
      "|     [527, 593, 296]|     [318]|0.8135784271221712|   1.7759808427545|\n",
      "| [33794, 5952, 4993]|    [7153]|0.9612155610736668|3.6704409314230957|\n",
      "|    [1210, 260, 593]|    [1196]|0.9273107529075699| 3.133298284118627|\n",
      "|         [1196, 296]|     [260]|0.8850210970464135| 2.539572728899226|\n",
      "|         [1221, 296]|     [858]|0.9584729710039341| 3.362917025548347|\n",
      "|        [1221, 2571]|     [858]| 0.954027397260274|3.3473191985014075|\n",
      "|   [5952, 2959, 318]|    [7153]|0.9082631578947369|3.4682400142551857|\n",
      "|   [5952, 2959, 318]|    [2571]|0.8724736842105263| 2.294433863038074|\n",
      "|   [5952, 2959, 318]|    [4993]|0.9365263157894737|3.2703716416390365|\n",
      "|        [2858, 1196]|     [260]| 0.861962598804704|2.4734062459764523|\n",
      "|        [2858, 1196]|    [2571]|0.8034991324465008| 2.113044383768617|\n",
      "|   [1210, 2571, 296]|     [260]|0.9182432055360232|2.6349037452990753|\n",
      "|   [1210, 2571, 296]|    [1196]|0.9248283944416541| 3.124910621733139|\n",
      "|  [3578, 7153, 2571]|    [4993]|0.9405646359583952|3.2844735494419868|\n",
      "|  [3578, 7153, 2571]|    [5952]|0.9310206880786376| 3.543560040157571|\n",
      "|   [1198, 1196, 593]|     [260]|0.9153338148797854|2.6265552333902025|\n",
      "|  [1196, 2959, 2571]|     [260]|0.9075292038873074| 2.604159860780091|\n",
      "|   [1210, 110, 1196]|     [260]|0.9380500431406384| 2.691739570788757|\n",
      "|  [4306, 5952, 4993]|    [7153]|0.9098606937995083| 3.474340270443029|\n",
      "| [33794, 7153, 4993]|    [5952]|0.9582694801367441|3.6472717319771553|\n",
      "|    [2858, 593, 318]|     [296]|0.8346460544983122| 2.034522569681203|\n",
      "|    [7153, 356, 318]|    [4993]|0.9196282121377802|3.2113630712996226|\n",
      "|    [7153, 356, 318]|    [5952]|0.9033351558228541| 3.438186070439938|\n",
      "|   [7153, 5952, 296]|    [2571]|0.8560552324206743|2.2512565701901166|\n",
      "|   [7153, 5952, 296]|    [2959]|0.8069702558282499| 2.538804957579602|\n",
      "|   [7153, 5952, 296]|    [4993]|0.9573934837092731| 3.343240276567575|\n",
      "|    [4226, 296, 318]|    [2959]|0.8506926361837308|2.6763597127914234|\n",
      "|        [1036, 1198]|     [260]|0.8074180449638506|2.3168903596247143|\n",
      "|        [1036, 1198]|    [1196]|0.8062790927998416|2.7243433660930254|\n",
      "|         [1210, 296]|     [260]|0.8977969762419007|2.5762331819673507|\n",
      "|         [1210, 296]|    [1196]|0.8891144708423326|3.0042365379030644|\n",
      "+--------------------+----------+------------------+------------------+\n",
      "only showing top 50 rows\n",
      "\n"
     ]
    }
   ],
   "source": [
    "model.associationRules.show(50)"
   ]
  },
  {
   "cell_type": "code",
   "execution_count": 166,
   "metadata": {},
   "outputs": [],
   "source": [
    "spark.stop()"
   ]
  }
 ],
 "metadata": {
  "kernelspec": {
   "display_name": "Python 3",
   "language": "python",
   "name": "python3"
  },
  "language_info": {
   "codemirror_mode": {
    "name": "ipython",
    "version": 3
   },
   "file_extension": ".py",
   "mimetype": "text/x-python",
   "name": "python",
   "nbconvert_exporter": "python",
   "pygments_lexer": "ipython3",
   "version": "3.7.6"
  }
 },
 "nbformat": 4,
 "nbformat_minor": 4
}