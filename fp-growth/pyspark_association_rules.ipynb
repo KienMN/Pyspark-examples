{
 "cells": [
  {
   "cell_type": "markdown",
   "metadata": {},
   "source": [
    "# Association Rules on MovieLens 1M\n",
    "This notebook provides code to mine association rules on MovieLens 1M.  \n",
    "I select only good ratings (>3.0) and apply fp-growth algorithms (implemented by [PySpark](https://spark.apache.org/docs/latest/ml-frequent-pattern-mining.html#fp-growth)).  \n",
    "The dataset is downloaded from https://grouplens.org/datasets/movielens/, extracted and copied to the directory `/opt/spark/data`.\n",
    "\n",
    "The association rules is shown bellow.  "
   ]
  },
  {
   "cell_type": "markdown",
   "metadata": {},
   "source": [
    "## Import libraries and initialize Spark context"
   ]
  },
  {
   "cell_type": "code",
   "execution_count": 1,
   "metadata": {},
   "outputs": [],
   "source": [
    "import pyspark\n",
    "import os\n",
    "import socket"
   ]
  },
  {
   "cell_type": "code",
   "execution_count": 2,
   "metadata": {},
   "outputs": [],
   "source": [
    "os.environ['PYSPARK_PYTHON'] = 'python3'\n",
    "driver_host = socket.gethostbyname(socket.gethostname())"
   ]
  },
  {
   "cell_type": "code",
   "execution_count": 3,
   "metadata": {},
   "outputs": [
    {
     "data": {
      "text/plain": [
       "<pyspark.conf.SparkConf at 0x7fc6a5a19e90>"
      ]
     },
     "execution_count": 3,
     "metadata": {},
     "output_type": "execute_result"
    }
   ],
   "source": [
    "conf = pyspark.SparkConf()\n",
    "\n",
    "conf.setMaster(\"k8s://https://kubernetes.default.svc.cluster.local:443\") \n",
    "\n",
    "conf.set(\"spark.kubernetes.container.image\", \"gcr.io/spark-operator/spark-py:v2.4.5\") \n",
    "conf.set(\"spark.kubernetes.authenticate.caCertFile\", \"/var/run/secrets/kubernetes.io/serviceaccount/ca.crt\")\n",
    "conf.set(\"spark.kubernetes.authenticate.oauthTokenFile\", \"/var/run/secrets/kubernetes.io/serviceaccount/token\")\n",
    "conf.set(\"spark.kubernetes.authenticate.driver.serviceAccountName\", \"spark\") \n",
    "conf.set(\"spark.executor.instances\", \"2\")\n",
    "conf.set(\"spark.executor.memory\", \"1g\")\n",
    "conf.set(\"spark.kubernetes.pyspark.pythonVersion\", \"3\")\n",
    "conf.set(\"spark.driver.host\", driver_host)\n",
    "conf.set(\"spark.driver.port\", \"29413\")"
   ]
  },
  {
   "cell_type": "code",
   "execution_count": 4,
   "metadata": {},
   "outputs": [],
   "source": [
    "spark = pyspark.sql.SparkSession.builder.config(conf=conf).getOrCreate()"
   ]
  },
  {
   "cell_type": "code",
   "execution_count": 5,
   "metadata": {},
   "outputs": [],
   "source": [
    "from pyspark.ml.fpm import FPGrowth\n",
    "from pyspark.sql import functions as F\n",
    "from pyspark.sql import Row"
   ]
  },
  {
   "cell_type": "markdown",
   "metadata": {},
   "source": [
    "## Prepare dataset"
   ]
  },
  {
   "cell_type": "code",
   "execution_count": 6,
   "metadata": {},
   "outputs": [],
   "source": [
    "# Load rating data.\n",
    "lines = spark.read.text(\"/opt/spark/data/ratings.dat\").rdd\n",
    "parts = lines.map(lambda row: row.value.split(\"::\"))\n",
    "ratingsRDD = parts.map(lambda p: Row(userId=int(p[0]), movieId=int(p[1]),\n",
    "                                     rating=float(p[2]), timestamp=int(p[3])))\n",
    "ratings = spark.createDataFrame(ratingsRDD)"
   ]
  },
  {
   "cell_type": "code",
   "execution_count": 7,
   "metadata": {},
   "outputs": [
    {
     "name": "stdout",
     "output_type": "stream",
     "text": [
      "+-------+------+---------+------+\n",
      "|movieId|rating|timestamp|userId|\n",
      "+-------+------+---------+------+\n",
      "|   1193|   5.0|978300760|     1|\n",
      "|    661|   3.0|978302109|     1|\n",
      "|    914|   3.0|978301968|     1|\n",
      "|   3408|   4.0|978300275|     1|\n",
      "|   2355|   5.0|978824291|     1|\n",
      "|   1197|   3.0|978302268|     1|\n",
      "|   1287|   5.0|978302039|     1|\n",
      "|   2804|   5.0|978300719|     1|\n",
      "|    594|   4.0|978302268|     1|\n",
      "|    919|   4.0|978301368|     1|\n",
      "+-------+------+---------+------+\n",
      "only showing top 10 rows\n",
      "\n"
     ]
    }
   ],
   "source": [
    "ratings.show(10)"
   ]
  },
  {
   "cell_type": "code",
   "execution_count": 8,
   "metadata": {},
   "outputs": [
    {
     "data": {
      "text/plain": [
       "1000209"
      ]
     },
     "execution_count": 8,
     "metadata": {},
     "output_type": "execute_result"
    }
   ],
   "source": [
    "ratings.count()"
   ]
  },
  {
   "cell_type": "code",
   "execution_count": 9,
   "metadata": {},
   "outputs": [],
   "source": [
    "# Select good rating and split the dataset.\n",
    "ratings = ratings.filter(ratings.rating > 3.0)\n",
    "(training, test) = ratings.randomSplit([0.8, 0.2])"
   ]
  },
  {
   "cell_type": "code",
   "execution_count": 10,
   "metadata": {},
   "outputs": [
    {
     "data": {
      "text/plain": [
       "575281"
      ]
     },
     "execution_count": 10,
     "metadata": {},
     "output_type": "execute_result"
    }
   ],
   "source": [
    "ratings.count()"
   ]
  },
  {
   "cell_type": "code",
   "execution_count": 11,
   "metadata": {},
   "outputs": [],
   "source": [
    "# Group movies according to users\n",
    "movies_rating = training.groupBy('userId').agg(F.collect_set('movieId').alias('movieIds'))"
   ]
  },
  {
   "cell_type": "code",
   "execution_count": 12,
   "metadata": {},
   "outputs": [
    {
     "name": "stdout",
     "output_type": "stream",
     "text": [
      "+------+--------------------+\n",
      "|userId|            movieIds|\n",
      "+------+--------------------+\n",
      "|    26|[356, 3152, 1678,...|\n",
      "|    29|[610, 589, 1220, ...|\n",
      "|   474|[466, 741, 785, 3...|\n",
      "|   964|[1148, 356, 589, ...|\n",
      "|  1677|[3005, 3615, 2882...|\n",
      "|  1697|[2086, 1680, 3421...|\n",
      "|  1806|[508, 356, 3450, ...|\n",
      "|  1950|[2571, 589, 1199,...|\n",
      "|  2040|[356, 2599, 1678,...|\n",
      "|  2214|[356, 3101, 1191,...|\n",
      "+------+--------------------+\n",
      "only showing top 10 rows\n",
      "\n"
     ]
    }
   ],
   "source": [
    "movies_rating.show(10)"
   ]
  },
  {
   "cell_type": "code",
   "execution_count": 13,
   "metadata": {},
   "outputs": [
    {
     "data": {
      "text/plain": [
       "6038"
      ]
     },
     "execution_count": 13,
     "metadata": {},
     "output_type": "execute_result"
    }
   ],
   "source": [
    "movies_rating.count()"
   ]
  },
  {
   "cell_type": "markdown",
   "metadata": {},
   "source": [
    "## Fit a FP-Growth model"
   ]
  },
  {
   "cell_type": "code",
   "execution_count": 22,
   "metadata": {},
   "outputs": [],
   "source": [
    "# Define FP-Growth model\n",
    "fpGrowth = FPGrowth(itemsCol=\"movieIds\", minSupport=0.05, minConfidence=0.5)"
   ]
  },
  {
   "cell_type": "code",
   "execution_count": 23,
   "metadata": {},
   "outputs": [],
   "source": [
    "# Fit the model\n",
    "model = fpGrowth.fit(movies_rating)"
   ]
  },
  {
   "cell_type": "code",
   "execution_count": 24,
   "metadata": {},
   "outputs": [
    {
     "name": "stdout",
     "output_type": "stream",
     "text": [
      "+-----------------+----+\n",
      "|            items|freq|\n",
      "+-----------------+----+\n",
      "|           [1246]| 517|\n",
      "|           [2951]| 332|\n",
      "|           [2858]|2262|\n",
      "|            [260]|2115|\n",
      "|      [260, 2858]| 850|\n",
      "|           [2081]| 517|\n",
      "|           [3360]| 332|\n",
      "|           [1196]|2001|\n",
      "|      [1196, 260]|1271|\n",
      "|[1196, 260, 2858]| 538|\n",
      "|     [1196, 2858]| 842|\n",
      "|           [2908]| 517|\n",
      "|     [2908, 2858]| 318|\n",
      "|           [3082]| 330|\n",
      "|           [2140]| 330|\n",
      "|            [593]|1840|\n",
      "|      [593, 1196]| 802|\n",
      "| [593, 1196, 260]| 514|\n",
      "|[593, 1196, 2858]| 437|\n",
      "|       [593, 260]| 793|\n",
      "+-----------------+----+\n",
      "only showing top 20 rows\n",
      "\n",
      "+-----------------+----------+------------------+------------------+\n",
      "|       antecedent|consequent|        confidence|              lift|\n",
      "+-----------------+----------+------------------+------------------+\n",
      "|       [110, 858]|    [1221]|0.6028119507908611|  3.07933888229714|\n",
      "|       [110, 858]|    [1196]|0.6467486818980668|1.9515584914045614|\n",
      "|       [110, 858]|    [1198]|0.5992970123022847|1.9893102585383151|\n",
      "|       [110, 858]|    [2028]|0.6256590509666081| 2.068855065573045|\n",
      "|       [110, 858]|     [260]|0.6520210896309314|1.8614200185302903|\n",
      "|      [593, 2858]|     [318]|0.5572519083969466|2.0718516150866773|\n",
      "|      [593, 2858]|     [296]|  0.52453653217012|2.2163412045088764|\n",
      "|      [593, 2858]|    [2028]|0.5005452562704471|1.6551436239654762|\n",
      "|      [593, 2858]|     [608]|0.5376226826608506|1.9733530443198881|\n",
      "|      [527, 1196]|     [260]|0.6422651933701657|1.8335684338387994|\n",
      "|      [527, 1196]|    [2858]|0.5041436464088398|1.3457203081417217|\n",
      "|      [527, 1196]|    [1198]|  0.56353591160221|  1.87060463675324|\n",
      "|      [527, 1196]|    [2028]|0.5704419889502762| 1.886269840789577|\n",
      "|      [527, 1196]|    [1210]|0.5414364640883977|1.9367259301929773|\n",
      "|      [527, 1196]|     [593]|0.5580110497237569|1.8311253903435025|\n",
      "|      [527, 1196]|     [318]|0.5524861878453039|2.0541327599814934|\n",
      "|      [527, 1196]|     [858]|0.5027624309392266|1.8589587005578996|\n",
      "|     [2762, 2858]|     [593]|0.5190930787589498|1.7034152225796408|\n",
      "|[1198, 593, 1196]|     [260]|0.7127192982456141|2.0347040769773135|\n",
      "|            [733]|    [1580]|0.5095447870778267| 2.325496163549446|\n",
      "+-----------------+----------+------------------+------------------+\n",
      "only showing top 20 rows\n",
      "\n"
     ]
    }
   ],
   "source": [
    "# Display frequent itemsets.\n",
    "model.freqItemsets.show()\n",
    "\n",
    "# Display generated association rules.\n",
    "model.associationRules.show()"
   ]
  },
  {
   "cell_type": "code",
   "execution_count": 25,
   "metadata": {},
   "outputs": [
    {
     "data": {
      "text/plain": [
       "4163"
      ]
     },
     "execution_count": 25,
     "metadata": {},
     "output_type": "execute_result"
    }
   ],
   "source": [
    "model.associationRules.count()"
   ]
  },
  {
   "cell_type": "markdown",
   "metadata": {},
   "source": [
    "## Display association rules on the test set"
   ]
  },
  {
   "cell_type": "code",
   "execution_count": 26,
   "metadata": {},
   "outputs": [],
   "source": [
    "# Group movies according to user\n",
    "test_movies_rating = test.groupBy('userId').agg(F.collect_set('movieId').alias('movieIds'))"
   ]
  },
  {
   "cell_type": "code",
   "execution_count": 27,
   "metadata": {},
   "outputs": [],
   "source": [
    "# Transform examines the input items against all the association rules and summarize the\n",
    "# consequents as prediction\n",
    "test_association_rules = model.transform(test_movies_rating)"
   ]
  },
  {
   "cell_type": "code",
   "execution_count": 28,
   "metadata": {},
   "outputs": [
    {
     "name": "stdout",
     "output_type": "stream",
     "text": [
      "+------+--------------------+--------------------+\n",
      "|userId|            movieIds|          prediction|\n",
      "+------+--------------------+--------------------+\n",
      "|    26|[1917, 45, 168, 2...|[260, 318, 2028, ...|\n",
      "|    29|[288, 1036, 1799,...|[1198, 1240, 1291...|\n",
      "|   474|[661, 2391, 2, 48...|[589, 1196, 260, ...|\n",
      "|   964|[2599, 223, 597, ...|   [2858, 1196, 260]|\n",
      "|  1677|[2683, 2716, 2706...|   [1196, 260, 2858]|\n",
      "|  1697|[110, 356, 2571, ...|[1196, 1198, 1240...|\n",
      "|  1806|[590, 3247, 1396,...|[318, 2028, 527, ...|\n",
      "|  1950|[661, 799, 2916, ...|[260, 1198, 2571,...|\n",
      "|  2040|[3481, 2797, 2881...|[1196, 1270, 260,...|\n",
      "|  2214|[509, 249, 785, 9...|[2858, 1196, 1198...|\n",
      "|  2250|[3481, 589, 2959,...|[2858, 2997, 260,...|\n",
      "|  2453|[1953, 3783, 866,...|[1580, 589, 1196,...|\n",
      "|  2509|[527, 1200, 2332,...|[589, 1198, 1196,...|\n",
      "|  2529|[3398, 3479, 1018...|[260, 2858, 1198,...|\n",
      "|  2927|   [590, 1259, 2671]|[260, 1196, 1198,...|\n",
      "|  3091|[3499, 541, 1035,...|[1196, 260, 2571,...|\n",
      "|  3506|[1079, 589, 2599,...|[2997, 2858, 593,...|\n",
      "|  3764|        [3006, 1221]|[1196, 260, 858, ...|\n",
      "|  4590|[3499, 2396, 1290...|   [593, 2858, 2028]|\n",
      "|  4823|[1272, 2594, 3683...|[1196, 608, 2858,...|\n",
      "+------+--------------------+--------------------+\n",
      "only showing top 20 rows\n",
      "\n"
     ]
    }
   ],
   "source": [
    "test_association_rules.show()"
   ]
  },
  {
   "cell_type": "code",
   "execution_count": 29,
   "metadata": {},
   "outputs": [],
   "source": [
    "# Load movies data\n",
    "lines = spark.read.text(\"/opt/spark/data/movies.dat\").rdd\n",
    "parts = lines.map(lambda row: row.value.split(\"::\"))\n",
    "moviesRDD = parts.map(lambda p: Row(MovieID=int(p[0]), Title=p[1], Genres=p[2]))\n",
    "movies = spark.createDataFrame(moviesRDD)"
   ]
  },
  {
   "cell_type": "code",
   "execution_count": 32,
   "metadata": {},
   "outputs": [
    {
     "name": "stdout",
     "output_type": "stream",
     "text": [
      "+----------------------------+-------+----------------------------------+\n",
      "|Genres                      |MovieID|Title                             |\n",
      "+----------------------------+-------+----------------------------------+\n",
      "|Animation|Children's|Comedy |1      |Toy Story (1995)                  |\n",
      "|Adventure|Children's|Fantasy|2      |Jumanji (1995)                    |\n",
      "|Comedy|Romance              |3      |Grumpier Old Men (1995)           |\n",
      "|Comedy|Drama                |4      |Waiting to Exhale (1995)          |\n",
      "|Comedy                      |5      |Father of the Bride Part II (1995)|\n",
      "|Action|Crime|Thriller       |6      |Heat (1995)                       |\n",
      "|Comedy|Romance              |7      |Sabrina (1995)                    |\n",
      "|Adventure|Children's        |8      |Tom and Huck (1995)               |\n",
      "|Action                      |9      |Sudden Death (1995)               |\n",
      "|Action|Adventure|Thriller   |10     |GoldenEye (1995)                  |\n",
      "+----------------------------+-------+----------------------------------+\n",
      "only showing top 10 rows\n",
      "\n"
     ]
    }
   ],
   "source": [
    "movies.show(10, truncate=False)"
   ]
  },
  {
   "cell_type": "code",
   "execution_count": 33,
   "metadata": {},
   "outputs": [],
   "source": [
    "user_id = 474"
   ]
  },
  {
   "cell_type": "code",
   "execution_count": 34,
   "metadata": {},
   "outputs": [
    {
     "data": {
      "text/plain": [
       "[Row(userId=474, movieIds=[661, 2391, 2, 482, 2791, 2987, 2428, 3272, 2329, 3266, 3948, 551, 1517, 3543, 2499, 3255, 1049, 3256, 1884, 1732, 593, 492, 3555, 1836, 3535, 333, 1351, 2571], prediction=[589, 1196, 260, 2858, 296, 1198, 2028, 2762, 608, 318, 50, 1610, 110, 457, 480])]"
      ]
     },
     "execution_count": 34,
     "metadata": {},
     "output_type": "execute_result"
    }
   ],
   "source": [
    "recommendation = test_association_rules.filter(test_association_rules['userId'] == user_id).collect()\n",
    "recommendation"
   ]
  },
  {
   "cell_type": "code",
   "execution_count": 38,
   "metadata": {},
   "outputs": [
    {
     "name": "stdout",
     "output_type": "stream",
     "text": [
      "User 474: Preferable movies:\n",
      "+-----------------------------+-------+-----------------------------------------------------+\n",
      "|Genres                       |MovieID|Title                                                |\n",
      "+-----------------------------+-------+-----------------------------------------------------+\n",
      "|Adventure|Children's|Fantasy |2      |Jumanji (1995)                                       |\n",
      "|Comedy                       |333    |Tommy Boy (1995)                                     |\n",
      "|Thriller                     |482    |Killing Zoe (1994)                                   |\n",
      "|Comedy|Mystery               |492    |Manhattan Murder Mystery (1993)                      |\n",
      "|Children's|Comedy|Musical    |551    |Nightmare Before Christmas, The (1993)               |\n",
      "|Drama|Thriller               |593    |Silence of the Lambs, The (1991)                     |\n",
      "|Animation|Children's|Musical |661    |James and the Giant Peach (1996)                     |\n",
      "|Action|Adventure             |1049   |Ghost and the Darkness, The (1996)                   |\n",
      "|Drama                        |1351   |Blood & Wine (1997)                                  |\n",
      "|Comedy                       |1517   |Austin Powers: International Man of Mystery (1997)   |\n",
      "|Comedy|Crime|Mystery|Thriller|1732   |Big Lebowski, The (1998)                             |\n",
      "|Drama                        |1836   |Last Days of Disco, The (1998)                       |\n",
      "|Comedy|Drama                 |1884   |Fear and Loathing in Las Vegas (1998)                |\n",
      "|Drama                        |2329   |American History X (1998)                            |\n",
      "|Crime|Thriller               |2391   |Simple Plan, A (1998)                                |\n",
      "|Horror|Sci-Fi                |2428   |Faculty, The (1998)                                  |\n",
      "|Comedy                       |2499   |God Said 'Ha!' (1998)                                |\n",
      "|Action|Sci-Fi|Thriller       |2571   |Matrix, The (1999)                                   |\n",
      "|Comedy                       |2791   |Airplane! (1980)                                     |\n",
      "|Adventure|Animation|Film-Noir|2987   |Who Framed Roger Rabbit? (1988)                      |\n",
      "|Comedy|Drama                 |3255   |League of Their Own, A (1992)                        |\n",
      "|Action|Thriller              |3256   |Patriot Games (1992)                                 |\n",
      "|Action|Comedy|Crime|Drama    |3266   |Man Bites Dog (C'est arriv� pr�s de chez vous) (1992)|\n",
      "|Crime|Drama                  |3272   |Bad Lieutenant (1992)                                |\n",
      "|Comedy|Horror|Thriller       |3535   |American Psycho (2000)                               |\n",
      "|Comedy|Drama                 |3543   |Diner (1982)                                         |\n",
      "|Action|Thriller              |3555   |U-571 (2000)                                         |\n",
      "|Comedy                       |3948   |Meet the Parents (2000)                              |\n",
      "+-----------------------------+-------+-----------------------------------------------------+\n",
      "\n"
     ]
    }
   ],
   "source": [
    "print('User {}: Preferable movies:'.format(user_id))\n",
    "movies.filter(movies.MovieID.isin(recommendation[0]['movieIds'])).show(30, truncate=False)"
   ]
  },
  {
   "cell_type": "code",
   "execution_count": 40,
   "metadata": {},
   "outputs": [
    {
     "name": "stdout",
     "output_type": "stream",
     "text": [
      "User 474: Recommendation movies:\n",
      "+---------------------------------+-------+-----------------------------------------------------+\n",
      "|Genres                           |MovieID|Title                                                |\n",
      "+---------------------------------+-------+-----------------------------------------------------+\n",
      "|Crime|Thriller                   |50     |Usual Suspects, The (1995)                           |\n",
      "|Action|Drama|War                 |110    |Braveheart (1995)                                    |\n",
      "|Action|Adventure|Fantasy|Sci-Fi  |260    |Star Wars: Episode IV - A New Hope (1977)            |\n",
      "|Crime|Drama                      |296    |Pulp Fiction (1994)                                  |\n",
      "|Drama                            |318    |Shawshank Redemption, The (1994)                     |\n",
      "|Action|Thriller                  |457    |Fugitive, The (1993)                                 |\n",
      "|Action|Adventure|Sci-Fi          |480    |Jurassic Park (1993)                                 |\n",
      "|Action|Sci-Fi|Thriller           |589    |Terminator 2: Judgment Day (1991)                    |\n",
      "|Crime|Drama|Thriller             |608    |Fargo (1996)                                         |\n",
      "|Action|Adventure|Drama|Sci-Fi|War|1196   |Star Wars: Episode V - The Empire Strikes Back (1980)|\n",
      "|Action|Adventure                 |1198   |Raiders of the Lost Ark (1981)                       |\n",
      "|Action|Thriller                  |1610   |Hunt for Red October, The (1990)                     |\n",
      "|Action|Drama|War                 |2028   |Saving Private Ryan (1998)                           |\n",
      "|Thriller                         |2762   |Sixth Sense, The (1999)                              |\n",
      "|Comedy|Drama                     |2858   |American Beauty (1999)                               |\n",
      "+---------------------------------+-------+-----------------------------------------------------+\n",
      "\n"
     ]
    }
   ],
   "source": [
    "print('User {}: Recommendation movies:'.format(user_id))\n",
    "movies.filter(movies.MovieID.isin(recommendation[0]['prediction'])).show(truncate=False)"
   ]
  },
  {
   "cell_type": "code",
   "execution_count": 41,
   "metadata": {},
   "outputs": [],
   "source": [
    "user_id = 1806"
   ]
  },
  {
   "cell_type": "code",
   "execution_count": 42,
   "metadata": {},
   "outputs": [
    {
     "data": {
      "text/plain": [
       "[Row(userId=1806, movieIds=[590, 3247, 1396, 2006, 3624, 329, 2384, 3452, 1042, 2762, 2987, 2683, 150, 252, 448, 986, 500, 3745, 2709, 553, 2273, 168, 648, 1411, 344, 802, 671, 163, 317, 368, 2393, 1610, 1784, 3301, 515, 587, 3354, 3528, 457], prediction=[318, 2028, 527, 593, 589, 1196, 1198, 260, 2571, 2858, 480, 110])]"
      ]
     },
     "execution_count": 42,
     "metadata": {},
     "output_type": "execute_result"
    }
   ],
   "source": [
    "recommendation = test_association_rules.filter(test_association_rules['userId'] == user_id).collect()\n",
    "recommendation"
   ]
  },
  {
   "cell_type": "code",
   "execution_count": 44,
   "metadata": {},
   "outputs": [
    {
     "name": "stdout",
     "output_type": "stream",
     "text": [
      "User 1806: Preferable movies:\n",
      "+------------------------------+-------+----------------------------------------------+\n",
      "|Genres                        |MovieID|Title                                         |\n",
      "+------------------------------+-------+----------------------------------------------+\n",
      "|Drama                         |150    |Apollo 13 (1995)                              |\n",
      "|Action|Romance|Thriller       |163    |Desperado (1995)                              |\n",
      "|Action|Adventure|Drama|Romance|168    |First Knight (1995)                           |\n",
      "|Comedy|Romance                |252    |I.Q. (1994)                                   |\n",
      "|Children's|Comedy|Fantasy     |317    |Santa Clause, The (1994)                      |\n",
      "|Action|Adventure|Sci-Fi       |329    |Star Trek: Generations (1994)                 |\n",
      "|Comedy                        |344    |Ace Ventura: Pet Detective (1994)             |\n",
      "|Action|Comedy|Western         |368    |Maverick (1994)                               |\n",
      "|Drama                         |448    |Fearless (1993)                               |\n",
      "|Action|Thriller               |457    |Fugitive, The (1993)                          |\n",
      "|Comedy                        |500    |Mrs. Doubtfire (1993)                         |\n",
      "|Drama                         |515    |Remains of the Day, The (1993)                |\n",
      "|Western                       |553    |Tombstone (1993)                              |\n",
      "|Comedy|Romance|Thriller       |587    |Ghost (1990)                                  |\n",
      "|Adventure|Drama|Western       |590    |Dances with Wolves (1990)                     |\n",
      "|Action|Adventure|Mystery      |648    |Mission: Impossible (1996)                    |\n",
      "|Comedy|Sci-Fi                 |671    |Mystery Science Theater 3000: The Movie (1996)|\n",
      "|Drama|Romance                 |802    |Phenomenon (1996)                             |\n",
      "|Adventure|Children's          |986    |Fly Away Home (1996)                          |\n",
      "|Comedy                        |1042   |That Thing You Do! (1996)                     |\n",
      "|Crime|Drama|Sci-Fi            |1396   |Sneakers (1992)                               |\n",
      "|Drama                         |1411   |Hamlet (1996)                                 |\n",
      "|Action|Thriller               |1610   |Hunt for Red October, The (1990)              |\n",
      "|Comedy|Drama                  |1784   |As Good As It Gets (1997)                     |\n",
      "|Action|Adventure|Romance      |2006   |Mask of Zorro, The (1998)                     |\n",
      "|Action|Thriller               |2273   |Rush Hour (1998)                              |\n",
      "|Children's|Comedy             |2384   |Babe: Pig in the City (1998)                  |\n",
      "|Action|Sci-Fi                 |2393   |Star Trek: Insurrection (1998)                |\n",
      "|Comedy                        |2683   |Austin Powers: The Spy Who Shagged Me (1999)  |\n",
      "|Children's|Comedy             |2709   |Muppets From Space (1999)                     |\n",
      "|Thriller                      |2762   |Sixth Sense, The (1999)                       |\n",
      "|Adventure|Animation|Film-Noir |2987   |Who Framed Roger Rabbit? (1988)               |\n",
      "|Comedy|Crime                  |3247   |Sister Act (1992)                             |\n",
      "|Comedy|Crime                  |3301   |Whole Nine Yards, The (2000)                  |\n",
      "|Sci-Fi                        |3354   |Mission to Mars (2000)                        |\n",
      "|Action|Romance                |3452   |Romeo Must Die (2000)                         |\n",
      "|Drama|Romance                 |3528   |Prince of Tides, The (1991)                   |\n",
      "|Action                        |3624   |Shanghai Noon (2000)                          |\n",
      "|Adventure|Animation|Sci-Fi    |3745   |Titan A.E. (2000)                             |\n",
      "+------------------------------+-------+----------------------------------------------+\n",
      "\n"
     ]
    }
   ],
   "source": [
    "print('User {}: Preferable movies:'.format(user_id))\n",
    "movies.filter(movies.MovieID.isin(recommendation[0]['movieIds'])).show(40, truncate=False)"
   ]
  },
  {
   "cell_type": "code",
   "execution_count": 45,
   "metadata": {},
   "outputs": [
    {
     "name": "stdout",
     "output_type": "stream",
     "text": [
      "User 1806: Recommendation movies:\n",
      "+---------------------------------+-------+-----------------------------------------------------+\n",
      "|Genres                           |MovieID|Title                                                |\n",
      "+---------------------------------+-------+-----------------------------------------------------+\n",
      "|Action|Drama|War                 |110    |Braveheart (1995)                                    |\n",
      "|Action|Adventure|Fantasy|Sci-Fi  |260    |Star Wars: Episode IV - A New Hope (1977)            |\n",
      "|Drama                            |318    |Shawshank Redemption, The (1994)                     |\n",
      "|Action|Adventure|Sci-Fi          |480    |Jurassic Park (1993)                                 |\n",
      "|Drama|War                        |527    |Schindler's List (1993)                              |\n",
      "|Action|Sci-Fi|Thriller           |589    |Terminator 2: Judgment Day (1991)                    |\n",
      "|Drama|Thriller                   |593    |Silence of the Lambs, The (1991)                     |\n",
      "|Action|Adventure|Drama|Sci-Fi|War|1196   |Star Wars: Episode V - The Empire Strikes Back (1980)|\n",
      "|Action|Adventure                 |1198   |Raiders of the Lost Ark (1981)                       |\n",
      "|Action|Drama|War                 |2028   |Saving Private Ryan (1998)                           |\n",
      "|Action|Sci-Fi|Thriller           |2571   |Matrix, The (1999)                                   |\n",
      "|Comedy|Drama                     |2858   |American Beauty (1999)                               |\n",
      "+---------------------------------+-------+-----------------------------------------------------+\n",
      "\n"
     ]
    }
   ],
   "source": [
    "print('User {}: Recommendation movies:'.format(user_id))\n",
    "movies.filter(movies.MovieID.isin(recommendation[0]['prediction'])).show(truncate=False)"
   ]
  }
 ],
 "metadata": {
  "kernelspec": {
   "display_name": "Python 3",
   "language": "python",
   "name": "python3"
  },
  "language_info": {
   "codemirror_mode": {
    "name": "ipython",
    "version": 3
   },
   "file_extension": ".py",
   "mimetype": "text/x-python",
   "name": "python",
   "nbconvert_exporter": "python",
   "pygments_lexer": "ipython3",
   "version": "3.7.6"
  }
 },
 "nbformat": 4,
 "nbformat_minor": 4
}
